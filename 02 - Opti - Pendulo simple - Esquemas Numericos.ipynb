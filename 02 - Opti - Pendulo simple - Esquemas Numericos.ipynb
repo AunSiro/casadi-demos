{
 "cells": [
  {
   "cell_type": "code",
   "execution_count": null,
   "metadata": {},
   "outputs": [],
   "source": [
    "from casadi import *\n",
    "import matplotlib.pyplot as plt\n",
    "import numpy as np\n",
    "from matplotlib import animation, rc\n",
    "from IPython.display import HTML\n",
    "from scipy.optimize import root"
   ]
  },
  {
   "cell_type": "code",
   "execution_count": null,
   "metadata": {},
   "outputs": [],
   "source": [
    "def energy(q, v):\n",
    "    u = -np.cos(q)\n",
    "    t = 0.5 * v**2\n",
    "    return u+t"
   ]
  },
  {
   "cell_type": "code",
   "execution_count": null,
   "metadata": {},
   "outputs": [],
   "source": [
    "def timecrossings(arr, times, pos):\n",
    "    crossings = []\n",
    "    sign_arr = sign(arr)\n",
    "    for ii in range(1,len(arr)):\n",
    "        if sign_arr[ii-1] != sign_arr[ii]:\n",
    "            if cos(pos[ii]) > -0.99 :\n",
    "                crossings.append((times[ii-1] + times[ii])/2)\n",
    "    return crossings"
   ]
  },
  {
   "cell_type": "code",
   "execution_count": null,
   "metadata": {},
   "outputs": [],
   "source": [
    "def plot_results(arr, U, T, max_par, N, figsize=[10,7]):\n",
    "    margin_ang = np.arcsin(max_par)\n",
    "    timescale_x = np.linspace(0, T, N+1)\n",
    "    timescale_u = np.linspace(0, T, N)\n",
    "    #arr_u = sol.value(U)\n",
    "    arr_u = np.array(U)\n",
    "    energ = energy(arr[:,0],arr[:,1])\n",
    "    plt.figure(figsize=figsize)\n",
    "    plt.plot(timescale_x,arr[:,0], label = '$x$')\n",
    "    plt.plot(timescale_x,arr[:,1], label = \"$x'$\")\n",
    "    plt.plot(timescale_x,energ, label = \"$energy$\")\n",
    "    plt.plot(timescale_u,arr_u[:], label = 'u')\n",
    "    plt.plot(timescale_x,2+cos(arr[:,0]),':', label = '$2+cos(x)$')\n",
    "    cross_points = timecrossings(arr[:,1], timescale_x, arr[:,0])\n",
    "    plt.hlines([0,pi, -pi], 0, timescale_u[-1], 'k', 'dotted')\n",
    "    plt.hlines([-max_par,max_par], 0, timescale_u[-1], 'r', 'dotted')\n",
    "    plt.hlines([np.pi-margin_ang,-np.pi+margin_ang], 0, timescale_u[-1], 'g', 'dotted', label = \"g_par = max par\")\n",
    "    plt.vlines(cross_points, -pi, pi, 'k', 'dotted')\n",
    "    print(f'Max par: {max_par}, number of crossing points: {len(cross_points)}')\n",
    "    plt.legend()"
   ]
  },
  {
   "cell_type": "code",
   "execution_count": null,
   "metadata": {},
   "outputs": [],
   "source": [
    "def print_phase_space(X = np.array([[0,0]])):\n",
    "    X = np.array(X)\n",
    "    margin = 0.2\n",
    "    max_x = max(np.max(X[:,0]), np.pi) + margin\n",
    "    min_x = min(np.min(X[:,0]), -np.pi) - margin\n",
    "    max_v = max(np.max(X[:,1]), 2) + margin\n",
    "    min_v = min(np.min(X[:,1]), -2) - margin\n",
    "    \n",
    "    x_arr = np.linspace(min_x, max_x, 400)\n",
    "    v_arr = np.linspace(min_v, max_v, 400)\n",
    "    \n",
    "    xx, vv = np.meshgrid(x_arr, v_arr)\n",
    "    ee = energy(xx,vv)\n",
    "    \n",
    "    fig, ax = plt.subplots(figsize=(12, 12))\n",
    "    ax.contour(xx,vv,ee, 10)\n",
    "    ax.plot(X[:,0], X[:,1], 'r', marker = 'o', markersize = 5, linewidth = 0.7)\n",
    "    ax.set_aspect('equal')\n",
    "    plt.xlabel('Angle in rad')\n",
    "    plt.ylabel('Angular speed in rad/s')\n",
    "    plt.title('Phase space, lines of constant energy')"
   ]
  },
  {
   "cell_type": "code",
   "execution_count": null,
   "metadata": {},
   "outputs": [],
   "source": [
    "import matplotlib\n",
    "matplotlib.rcParams['animation.embed_limit'] = 200"
   ]
  },
  {
   "cell_type": "code",
   "execution_count": null,
   "metadata": {},
   "outputs": [],
   "source": [
    "def create_anim(arr, U):\n",
    "    arr = np.array(arr)\n",
    "    U = np.array(U)\n",
    "    fig, (ax, ax2) = plt.subplots(1,2, figsize = [15,8])\n",
    "\n",
    "    ax.set_aspect('equal')\n",
    "    ax.set_xlim(( -1.5, 1.5))\n",
    "    ax.set_ylim(( -1.5, 1.5))\n",
    "\n",
    "    circle2 = plt.Circle((0, 0), 1, color='b', ls = \":\", fill=False)\n",
    "    ax.add_artist(circle2)\n",
    "\n",
    "    line, = ax.plot([], [], lw=2)\n",
    "    point, = ax.plot([], [], marker='o', markersize=15, color=\"red\")\n",
    "    text = ax.text(0.2, 0, \"\", fontsize = 12)\n",
    "    text_2 = ax.text(0.2, -0.15, \"\", fontsize = 12)\n",
    "    text_3 = ax.text(0.2, -0.3, \"\", fontsize = 12)\n",
    "    # Phase space\n",
    "    \n",
    "    margin = 0.2\n",
    "    max_x = max(np.max(arr[:,0]), np.pi) + margin\n",
    "    min_x = min(np.min(arr[:,0]), -np.pi) - margin\n",
    "    max_v = max(np.max(arr[:,1]), 2) + margin\n",
    "    min_v = min(np.min(arr[:,1]), -2) - margin\n",
    "    \n",
    "    x_arr = np.linspace(min_x, max_x, 400)\n",
    "    v_arr = np.linspace(min_v, max_v, 400)\n",
    "    \n",
    "    xx, vv = np.meshgrid(x_arr, v_arr)\n",
    "    ee = energy(xx,vv)\n",
    "    \n",
    "    ax2.contour(xx,vv,ee, 10)\n",
    "    line2, = ax2.plot([], [], 'r', marker = 'o', markersize = 5, linewidth = 0.7)\n",
    "    ax2.set_aspect('equal')\n",
    "    ax2.set_xlabel('Angle in rad')\n",
    "    ax2.set_ylabel('Angular speed in rad/s')\n",
    "    ax2.set_title('Phase space, lines of constant energy')\n",
    "    \n",
    "    trayectory = np.zeros_like(arr)\n",
    "    trayectory[:,0] = arr[0,0]\n",
    "    trayectory[:,1] = arr[0,1]\n",
    "    \n",
    "    def init():\n",
    "        line.set_data([], [])\n",
    "        point.set_data([], [])\n",
    "        text.set_text('')\n",
    "        return (line,)\n",
    "    def animate(i):\n",
    "        x = [0, np.sin(arr[i,0])]\n",
    "        y = [0, -np.cos(arr[i,0])]\n",
    "        line.set_data(x, y)    \n",
    "        point.set_data(x[1], y[1])\n",
    "        text.set_text(\"U = %.6f\" % U[i])\n",
    "        text_2.set_text(r\"$\\dot{\\theta}$\" + \" = %.6f\" % arr[i,1])\n",
    "        text_3.set_text(\"par g = %.6f\" % x[1])\n",
    "        \n",
    "        trayectory[i:,0] = arr[i,0]\n",
    "        trayectory[i:,1] = arr[i,1]\n",
    "        line2.set_data(trayectory[:,0], trayectory[:,1])\n",
    "        return (line, line2,)\n",
    "    \n",
    "    anim = animation.FuncAnimation(fig, animate, init_func=init,\n",
    "                               frames=arr.shape[0]-1, interval=20, \n",
    "                               blit=True)\n",
    "    return anim"
   ]
  },
  {
   "cell_type": "markdown",
   "metadata": {},
   "source": [
    "## Pendulum exercise\n",
    "$$\n",
    "\\begin{split}\\begin{array}{lc}\n",
    "\\begin{array}{l}\n",
    "\\text{minimize:} \\\\\n",
    "x(\\cdot) \\in \\mathbb{R}^2, \\, u(\\cdot) \\in \\mathbb{R}\n",
    "\\end{array}\n",
    "\\quad \\displaystyle \\int_{t=0}^{T}{cos(x_0) \\, dt}\n",
    "\\\\\n",
    "\\\\\n",
    "\\text{subject to:} \\\\\n",
    "\\\\\n",
    "\\begin{array}{ll}\n",
    "\\left\\{\n",
    "\\begin{array}{l}\n",
    "\\dot{x}_0 = x_1 \\\\\n",
    "\\dot{x}_1 = u - sin(x_0) \\\\\n",
    "-u_{max} \\le u \\le u_{max} , \\quad\n",
    "\\end{array} \\right. & \\text{for} \\, 0 \\le t \\le T \\\\\n",
    "x_0(0)=0, \\quad x_1(0)=0, x_0(T) = pi/2 , x_1(T) = 0\n",
    "\\end{array}\n",
    "\\end{array}\\end{split}\n",
    "$$\n",
    "with $T=10$.\n",
    "\n",
    "siendo $$x_0 = \\theta$$ $$x_1 = \\theta'$$"
   ]
  },
  {
   "cell_type": "code",
   "execution_count": null,
   "metadata": {},
   "outputs": [],
   "source": [
    "x = MX.sym('x', 2)\n",
    "t = MX.sym('t')\n",
    "dt = MX.sym('dt')\n",
    "u = MX.sym('u')\n",
    "\n",
    "rhs = vertcat(x[1], u-sin(x[0]))\n",
    "#rhs = vertcat(x[1], u)\n",
    "F = Function('F', [x, u], [rhs])\n",
    "\n",
    "k1 = F(x, u);\n",
    "k2 = F(x + dt/2 * k1, u)\n",
    "k3 = F(x + dt/2 * k2, u)\n",
    "k4 = F(x + dt * k3, u);\n",
    "new_x_expr = x+dt/6*(k1 +2*k2 +2*k3 +k4)\n",
    "\n",
    "new_x_expr = x + dt * F(x, u)\n",
    "new_x = Function('New_x', [x, u, dt], [new_x_expr])"
   ]
  },
  {
   "cell_type": "markdown",
   "metadata": {},
   "source": [
    "## Opti problem"
   ]
  },
  {
   "cell_type": "code",
   "execution_count": null,
   "metadata": {},
   "outputs": [],
   "source": [
    "N = 200"
   ]
  },
  {
   "cell_type": "code",
   "execution_count": null,
   "metadata": {},
   "outputs": [],
   "source": [
    "opti = Opti()\n",
    "opti.solver('ipopt')"
   ]
  },
  {
   "cell_type": "code",
   "execution_count": null,
   "metadata": {},
   "outputs": [],
   "source": [
    "X = opti.variable(N+1,2)\n",
    "U = opti.variable(N)\n",
    "#T = opti.variable()\n",
    "T = opti.parameter()\n",
    "u_m = opti.parameter()\n",
    "#t_m = opti.parameter()"
   ]
  },
  {
   "cell_type": "code",
   "execution_count": null,
   "metadata": {},
   "outputs": [],
   "source": [
    "cost = sum1(2+cos(X[:,0]))*T #**2\n",
    "#cost = -sum1(X[:,0])\n",
    "opti.minimize(cost)"
   ]
  },
  {
   "cell_type": "code",
   "execution_count": null,
   "metadata": {},
   "outputs": [],
   "source": [
    "opti.subject_to(X[0,:].T == [0, 0])\n",
    "opti.subject_to(cos(X[-1,0]) < -0.9999)\n",
    "#opti.subject_to(T < t_m)\n",
    "opti.subject_to(opti.bounded(-0.001,X[-1,1],0.001))"
   ]
  },
  {
   "cell_type": "code",
   "execution_count": null,
   "metadata": {},
   "outputs": [],
   "source": [
    "for ii in range(N):\n",
    "    opti.subject_to(X[ii+1,:].T == new_x(X[ii,:], U[ii], T/N))\n",
    "    opti.subject_to(opti.bounded(-u_m,U[ii],u_m))"
   ]
  },
  {
   "cell_type": "code",
   "execution_count": null,
   "metadata": {},
   "outputs": [],
   "source": [
    "opti.set_initial(X[:,0], np.linspace(0, pi, N+1))\n",
    "opti.set_initial(X[:,1], pi/N)\n",
    "#opti.set_initial(T, 50)\n",
    "opti.set_value(T, 25)\n",
    "max_par = 0.2\n",
    "opti.set_value(u_m, max_par)"
   ]
  },
  {
   "cell_type": "code",
   "execution_count": null,
   "metadata": {},
   "outputs": [],
   "source": [
    "sol = opti.solve()"
   ]
  },
  {
   "cell_type": "code",
   "execution_count": null,
   "metadata": {
    "scrolled": false
   },
   "outputs": [],
   "source": [
    "plot_results(sol.value(X), sol.value(U), sol.value(T), max_par, N)"
   ]
  },
  {
   "cell_type": "code",
   "execution_count": null,
   "metadata": {},
   "outputs": [],
   "source": [
    "#anim = create_anim(sol)"
   ]
  },
  {
   "cell_type": "code",
   "execution_count": null,
   "metadata": {},
   "outputs": [],
   "source": [
    "#HTML(anim.to_jshtml())"
   ]
  },
  {
   "cell_type": "code",
   "execution_count": null,
   "metadata": {},
   "outputs": [],
   "source": [
    "results = []\n",
    "for ii in [0.11, 0.105, 0.1, 0.095, 0.09, 0.085]:\n",
    "    opti.set_value(u_m, ii)\n",
    "    est_t = (2 + sqrt(1/ii))*8\n",
    "    #opti.set_initial(T, est_t)\n",
    "    opti.set_value(T, 40)\n",
    "    try:\n",
    "        sol = opti.solve()\n",
    "    except:\n",
    "        pass\n",
    "    else:\n",
    "        results.append([sol.value(X), sol.value(U), sol.value(T), ii, N])"
   ]
  },
  {
   "cell_type": "code",
   "execution_count": null,
   "metadata": {
    "scrolled": false
   },
   "outputs": [],
   "source": [
    "for res in results:\n",
    "    plot_results(*res)"
   ]
  },
  {
   "cell_type": "markdown",
   "metadata": {},
   "source": [
    "## Integración de la acción para comprobación"
   ]
  },
  {
   "cell_type": "code",
   "execution_count": null,
   "metadata": {},
   "outputs": [],
   "source": [
    "def euler_step(x, u, dt):\n",
    "    return x + dt * F(x, u)"
   ]
  },
  {
   "cell_type": "code",
   "execution_count": null,
   "metadata": {},
   "outputs": [],
   "source": [
    "def rk4_step(x, u, dt):\n",
    "    k1 = F(x, u);\n",
    "    k2 = F(x + dt/2 * k1, u)\n",
    "    k3 = F(x + dt/2 * k2, u)\n",
    "    k4 = F(x + dt * k3, u);\n",
    "    return x+dt/6*(k1 +2*k2 +2*k3 +k4)"
   ]
  },
  {
   "cell_type": "code",
   "execution_count": null,
   "metadata": {},
   "outputs": [],
   "source": [
    "def integrate_euler(x_0, u, dt):\n",
    "    x = [x_0,]\n",
    "    for ii in range(len(u)):\n",
    "        x_i = euler_step(x[-1], u[ii], dt)\n",
    "        x.append(x_i)\n",
    "    return horzcat(*x).T"
   ]
  },
  {
   "cell_type": "code",
   "execution_count": null,
   "metadata": {},
   "outputs": [],
   "source": [
    "def integrate_rk4(x_0, u, dt):\n",
    "    x = [x_0,]\n",
    "    for ii in range(len(u)):\n",
    "        x_i = rk4_step(x[-1], u[ii], dt)\n",
    "        x.append(x_i)\n",
    "    return horzcat(*x).T"
   ]
  },
  {
   "cell_type": "code",
   "execution_count": null,
   "metadata": {},
   "outputs": [],
   "source": [
    "def plot_results_sim(U, arr, T, max_par, N):\n",
    "    arr = np.array(arr)\n",
    "    timescale_x = np.linspace(0, T, N+1)\n",
    "    timescale_u = np.linspace(0, T, N)\n",
    "    arr_u = np.array(U)\n",
    "    energ = energy(arr[:,0],arr[:,1])\n",
    "    plt.figure(figsize=[10,7])\n",
    "    plt.plot(timescale_x,arr[:,0], label = '$x$')\n",
    "    plt.plot(timescale_x,arr[:,1], label = \"$x'$\")\n",
    "    plt.plot(timescale_x,energ, label = \"$energy$\")\n",
    "    plt.plot(timescale_u,arr_u[:], label = 'u')\n",
    "    plt.plot(timescale_x,2+cos(arr[:,0]),':', label = '$2+cos(x)$')\n",
    "    cross_points = timecrossings(arr[:,1], timescale_x, arr[:,0])\n",
    "    plt.hlines([0,pi, -pi], 0, timescale_u[-1], 'k', 'dotted')\n",
    "    plt.hlines([-max_par,max_par], 0, timescale_u[-1], 'r', 'dotted')\n",
    "    plt.vlines(cross_points, -pi, pi, 'k', 'dotted')\n",
    "    print(f'Max par: {max_par}, number of crossing points: {len(cross_points)}')\n",
    "    plt.legend()"
   ]
  },
  {
   "cell_type": "markdown",
   "metadata": {},
   "source": [
    "## Comparación entre integrar con Euler y Runge Kutta"
   ]
  },
  {
   "cell_type": "code",
   "execution_count": null,
   "metadata": {},
   "outputs": [],
   "source": [
    "x_0 = DM([1,0])\n",
    "u_0 = np.zeros(200)\n",
    "xx = integrate_euler(x_0, u_0, 0.1)\n",
    "print_phase_space(xx)"
   ]
  },
  {
   "cell_type": "code",
   "execution_count": null,
   "metadata": {},
   "outputs": [],
   "source": [
    "xx = integrate_rk4(x_0, u_0, 0.1)\n",
    "print_phase_space(xx)"
   ]
  },
  {
   "cell_type": "markdown",
   "metadata": {},
   "source": [
    "### Usando Euler:"
   ]
  },
  {
   "cell_type": "code",
   "execution_count": null,
   "metadata": {
    "scrolled": false
   },
   "outputs": [],
   "source": [
    "xx = integrate_euler(DM([0,0]), sol.value(U), sol.value(T)/N)\n",
    "plot_results_sim(sol.value(U), xx, sol.value(T), sol.value(max_par), N)"
   ]
  },
  {
   "cell_type": "markdown",
   "metadata": {},
   "source": [
    "### Usando Runge Kutta"
   ]
  },
  {
   "cell_type": "code",
   "execution_count": null,
   "metadata": {
    "scrolled": false
   },
   "outputs": [],
   "source": [
    "xx = integrate_rk4(DM([0,0]), sol.value(U), sol.value(T)/N)\n",
    "plot_results_sim(sol.value(U), xx, sol.value(T), sol.value(max_par), N)"
   ]
  },
  {
   "cell_type": "markdown",
   "metadata": {},
   "source": [
    "## Otras comprobaciones: Coste = T"
   ]
  },
  {
   "cell_type": "code",
   "execution_count": null,
   "metadata": {},
   "outputs": [],
   "source": [
    "N = 300\n",
    "\n",
    "k1 = F(x, u);\n",
    "k2 = F(x + dt/2 * k1, u)\n",
    "k3 = F(x + dt/2 * k2, u)\n",
    "k4 = F(x + dt * k3, u);\n",
    "new_x_expr = x+dt/6*(k1 +2*k2 +2*k3 +k4)\n",
    "\n",
    "new_x_expr = x + dt * F(x, u)\n",
    "new_x = Function('New_x', [x, u, dt], [new_x_expr])\n",
    "\n",
    "opti = Opti()\n",
    "opti.solver('ipopt')\n",
    "\n",
    "X = opti.variable(N+1,2)\n",
    "U = opti.variable(N)\n",
    "T = opti.variable()\n",
    "u_m = opti.parameter()\n",
    "#t_m = opti.parameter()\n",
    "\n",
    "#cost = sum1(2+cos(X[:,0]))*T #**2\n",
    "cost = T\n",
    "#cost = -sum1(X[:,0])\n",
    "opti.minimize(cost)\n",
    "\n",
    "opti.subject_to(X[0,:].T == [0, 0])\n",
    "opti.subject_to(cos(X[-1,0]) < -0.9999)\n",
    "#opti.subject_to(T < t_m)\n",
    "opti.subject_to(opti.bounded(-0.001,X[-1,1],0.001))\n",
    "\n",
    "for ii in range(N):\n",
    "    opti.subject_to(X[ii+1,:].T == new_x(X[ii,:], U[ii], T/N))\n",
    "    opti.subject_to(opti.bounded(-u_m,U[ii],u_m))"
   ]
  },
  {
   "cell_type": "code",
   "execution_count": null,
   "metadata": {},
   "outputs": [],
   "source": [
    "opti.set_initial(X[:,0], np.linspace(0, pi, N+1))\n",
    "opti.set_initial(X[:,1], pi/N)\n",
    "opti.set_initial(T, 50)\n",
    "max_par = 0.1\n",
    "opti.set_value(u_m, max_par)\n",
    "\n",
    "sol = opti.solve()"
   ]
  },
  {
   "cell_type": "code",
   "execution_count": null,
   "metadata": {},
   "outputs": [],
   "source": [
    "plot_results(sol.value(X), sol.value(U),sol.value(T), max_par, N)"
   ]
  },
  {
   "cell_type": "code",
   "execution_count": null,
   "metadata": {
    "scrolled": false
   },
   "outputs": [],
   "source": [
    "xx = integrate_euler(DM([0,0]), sol.value(U), sol.value(T)/N)\n",
    "plot_results_sim(sol.value(U), xx, sol.value(T), sol.value(max_par), N)"
   ]
  },
  {
   "cell_type": "code",
   "execution_count": null,
   "metadata": {},
   "outputs": [],
   "source": [
    "#anim = create_anim(sol)"
   ]
  },
  {
   "cell_type": "code",
   "execution_count": null,
   "metadata": {},
   "outputs": [],
   "source": [
    "#HTML(anim.to_jshtml())"
   ]
  },
  {
   "cell_type": "markdown",
   "metadata": {},
   "source": [
    "## Otras comprobaciones: Alimentar integradores avanzados con solución de Euler"
   ]
  },
  {
   "cell_type": "code",
   "execution_count": null,
   "metadata": {},
   "outputs": [],
   "source": [
    "N = 500\n",
    "\n",
    "k1 = F(x, u);\n",
    "k2 = F(x + dt/2 * k1, u)\n",
    "k3 = F(x + dt/2 * k2, u)\n",
    "k4 = F(x + dt * k3, u);\n",
    "new_x_expr_rk = x+dt/6*(k1 +2*k2 +2*k3 +k4)\n",
    "\n",
    "new_x_expr_eu = x + dt * F(x, u)\n",
    "\n",
    "new_x_expr_mid = x + dt * F(x + 0.5*dt*F(x, u), u)\n",
    "\n",
    "new_x_eu = Function('New_x_eu', [x, u, dt], [new_x_expr_eu])\n",
    "new_x_mid = Function('New_x_mid', [x, u, dt], [new_x_expr_mid])\n",
    "new_x_rk = Function('New_x_rk', [x, u, dt], [new_x_expr_rk])"
   ]
  },
  {
   "cell_type": "code",
   "execution_count": null,
   "metadata": {},
   "outputs": [],
   "source": [
    "def create_pend(new_x):\n",
    "    opti = Opti()\n",
    "    opti.solver('ipopt')\n",
    "\n",
    "    X = opti.variable(N+1,2)\n",
    "    U = opti.variable(N)\n",
    "    T = opti.parameter()\n",
    "    u_m = opti.parameter()\n",
    "    #t_m = opti.parameter()\n",
    "\n",
    "    cost = sum1(cos(X[:,0])) #**2\n",
    "    #cost = T\n",
    "    #cost = -sum1(X[:,0])\n",
    "    opti.minimize(cost)\n",
    "\n",
    "    opti.subject_to(X[0,:].T == [0, 0])\n",
    "    \n",
    "\n",
    "    for ii in range(N):\n",
    "        opti.subject_to(X[ii+1,:].T == new_x(X[ii,:], U[ii], T/N))\n",
    "        opti.subject_to(opti.bounded(-u_m,U[ii],u_m))\n",
    "    return opti, X, U, T, u_m"
   ]
  },
  {
   "cell_type": "code",
   "execution_count": null,
   "metadata": {},
   "outputs": [],
   "source": [
    "opti_eu, X, U, T, u_m = create_pend(new_x_eu)\n",
    "\n",
    "opti_eu.subject_to(cos(X[-1,0]) < -0.9999)\n",
    "#opti.subject_to(T < t_m)\n",
    "opti_eu.subject_to(opti.bounded(-0.001,X[-1,1],0.001))\n",
    "    \n",
    "opti_eu.set_initial(X[:,0], np.linspace(0, pi, N+1))\n",
    "opti_eu.set_initial(X[:,1], pi/N)\n",
    "opti_eu.set_value(T, 60)\n",
    "max_par = 0.1\n",
    "opti_eu.set_value(u_m, max_par)\n",
    "\n",
    "sol_eu = opti_eu.solve()"
   ]
  },
  {
   "cell_type": "code",
   "execution_count": null,
   "metadata": {},
   "outputs": [],
   "source": [
    "X_eu = sol_eu.value(X)\n",
    "U_eu = sol_eu.value(U)\n",
    "T_eu = sol_eu.value(T)"
   ]
  },
  {
   "cell_type": "code",
   "execution_count": null,
   "metadata": {
    "scrolled": false
   },
   "outputs": [],
   "source": [
    "plot_results(X_eu, U_eu, T_eu, max_par, N)"
   ]
  },
  {
   "cell_type": "code",
   "execution_count": null,
   "metadata": {
    "scrolled": false
   },
   "outputs": [],
   "source": [
    "xx = integrate_rk4(DM([0,0]), U_eu, T_eu/N)\n",
    "plot_results_sim(U_eu, xx, T_eu, 0.1, N)"
   ]
  },
  {
   "cell_type": "code",
   "execution_count": null,
   "metadata": {},
   "outputs": [],
   "source": [
    "print_phase_space(X_eu)"
   ]
  },
  {
   "cell_type": "code",
   "execution_count": null,
   "metadata": {
    "scrolled": true
   },
   "outputs": [],
   "source": [
    "opti_mid, X, U, T, u_m = create_pend(new_x_mid)\n",
    "opti_mid.set_initial(X, X_eu)\n",
    "#opti_mid.set_value(T, T_eu)\n",
    "opti_mid.set_value(T, 120)\n",
    "opti_mid.set_initial(U, U_eu)\n",
    "max_par = 0.1\n",
    "opti_mid.set_value(u_m, max_par)\n",
    "\n",
    "sol_mid = opti_mid.solve()"
   ]
  },
  {
   "cell_type": "code",
   "execution_count": null,
   "metadata": {},
   "outputs": [],
   "source": [
    "X_mid = sol_mid.value(X)\n",
    "U_mid = sol_mid.value(U)\n",
    "T_mid = sol_mid.value(T)"
   ]
  },
  {
   "cell_type": "code",
   "execution_count": null,
   "metadata": {},
   "outputs": [],
   "source": [
    "plot_results(X_mid, U_mid, T_mid, max_par, N)"
   ]
  },
  {
   "cell_type": "code",
   "execution_count": null,
   "metadata": {
    "scrolled": false
   },
   "outputs": [],
   "source": [
    "xx = integrate_rk4(DM([0,0]), U_mid, T_mid/N)\n",
    "plot_results_sim(U_mid, xx, T_mid, 0.1, N)"
   ]
  },
  {
   "cell_type": "code",
   "execution_count": null,
   "metadata": {},
   "outputs": [],
   "source": [
    "opti_rk, X, U, T, u_m = create_pend(new_x_rk)\n",
    "opti_rk.set_initial(X, X_mid)\n",
    "opti_rk.set_value(T, T_mid)\n",
    "opti_rk.set_initial(U, U_mid)\n",
    "max_par = 0.1\n",
    "opti_rk.set_value(u_m, max_par)\n",
    "\n",
    "sol_rk = opti_rk.solve()"
   ]
  },
  {
   "cell_type": "code",
   "execution_count": null,
   "metadata": {},
   "outputs": [],
   "source": [
    "X_rk = sol_rk.value(X)\n",
    "U_rk = sol_rk.value(U)\n",
    "T_rk = sol_rk.value(T)"
   ]
  },
  {
   "cell_type": "code",
   "execution_count": null,
   "metadata": {},
   "outputs": [],
   "source": [
    "plot_results(X_rk, U_rk, T_rk, max_par, N)"
   ]
  },
  {
   "cell_type": "code",
   "execution_count": null,
   "metadata": {
    "scrolled": false
   },
   "outputs": [],
   "source": [
    "xx = integrate_rk4(DM([0,0]), U_rk, T_rk/N)\n",
    "plot_results_sim(U_rk, xx, T_rk, 0.1, N)"
   ]
  },
  {
   "cell_type": "code",
   "execution_count": null,
   "metadata": {},
   "outputs": [],
   "source": [
    "print_phase_space(xx)"
   ]
  },
  {
   "cell_type": "markdown",
   "metadata": {},
   "source": [
    "anim = create_anim(X_rk, U_rk)"
   ]
  },
  {
   "cell_type": "markdown",
   "metadata": {},
   "source": [
    "HTML(anim.to_jshtml())"
   ]
  },
  {
   "cell_type": "markdown",
   "metadata": {},
   "source": [
    "## New Trapezoidal scheme"
   ]
  },
  {
   "cell_type": "code",
   "execution_count": null,
   "metadata": {},
   "outputs": [],
   "source": [
    "def trapz_opti_step(x_n, x, u, u_n, dt):\n",
    "    f = np.zeros_like(x)\n",
    "    f[0] = x[1]\n",
    "    f[1] = u-np.sin(x[0])\n",
    "    f_n = np.zeros_like(x)\n",
    "    f_n[0] = x_n[1]\n",
    "    f_n[1] = u_n-np.sin(x_n[0])\n",
    "    res = x + dt/2*(f+f_n) - x_n\n",
    "    return res\n",
    "\n",
    "def trapz_step(x, u, u_n, dt):\n",
    "    x_n = root(trapz_opti_step, x, (x, u, u_n, dt))\n",
    "    return x_n.x\n",
    "\n",
    "def integrate_trapz(x_0, u, dt):\n",
    "    x = [x_0,]\n",
    "    u = np.append(u, u[-1])\n",
    "    for ii in range(0,len(u)-1):\n",
    "        x_i = trapz_step(x[-1], u[ii], u[ii+1], dt)\n",
    "        x.append(x_i)\n",
    "    return horzcat(*x).T"
   ]
  },
  {
   "cell_type": "code",
   "execution_count": null,
   "metadata": {},
   "outputs": [],
   "source": [
    "q = MX.sym('q')\n",
    "v = MX.sym('v')\n",
    "t = MX.sym('t')\n",
    "dt = MX.sym('dt')\n",
    "u = MX.sym('u')\n",
    "\n",
    "rhs = u-sin(q)\n",
    "#rhs = vertcat(x[1], u)\n",
    "F1d = Function('F', [q, u], [rhs])\n",
    "\n",
    "#k1 = F(x, u);\n",
    "#k2 = F(x + dt/2 * k1, u)\n",
    "#k3 = F(x + dt/2 * k2, u)\n",
    "#k4 = F(x + dt * k3, u);\n",
    "#new_x_expr = x+dt/6*(k1 +2*k2 +2*k3 +k4)\n",
    "q_n = MX.sym('q_n')\n",
    "u_n = MX.sym('u_n')\n",
    "v_n_expr = v + (1/2) * dt * (F1d(q_n,u_n) + F1d(q,u))\n",
    "q_n_expr = q + v * dt + (1/6) * dt**2 * (F1d(q_n,u_n) + 2*F1d(q,u))\n",
    "\n",
    "new_q = Function('New_q', [q, q_n, v, u, u_n, dt], [q_n_expr])\n",
    "new_v = Function('New_v', [q, q_n, v, u, u_n, dt], [v_n_expr])"
   ]
  },
  {
   "cell_type": "code",
   "execution_count": null,
   "metadata": {},
   "outputs": [],
   "source": [
    "opti = Opti()\n",
    "opti.solver('ipopt')\n",
    "\n",
    "Q = opti.variable(N+1)\n",
    "V = opti.variable(N+1)\n",
    "U = opti.variable(N+1)\n",
    "T = opti.parameter()\n",
    "u_m = opti.parameter()\n",
    "#t_m = opti.parameter()\n",
    "\n",
    "cost = sum1(cos(Q)) #**2\n",
    "#cost = T\n",
    "#cost = -sum1(X[:,0])\n",
    "opti.minimize(cost)\n",
    "\n",
    "opti.subject_to(Q[0] == 0)\n",
    "opti.subject_to(V[0] == 0)\n",
    "opti.subject_to(V[-1] == 0)\n",
    "\n",
    "\n",
    "for ii in range(N):\n",
    "    opti.subject_to(Q[ii+1] == new_q(Q[ii], Q[ii+1], V[ii], U[ii], U[ii+1], T/N))\n",
    "    opti.subject_to(V[ii+1] == new_v(Q[ii], Q[ii+1], V[ii], U[ii], U[ii+1], T/N))\n",
    "    opti.subject_to(opti.bounded(-u_m,U[ii],u_m))\n"
   ]
  },
  {
   "cell_type": "code",
   "execution_count": null,
   "metadata": {},
   "outputs": [],
   "source": [
    "opti.set_initial(Q, np.linspace(0, pi, N+1))\n",
    "opti.set_initial(V, pi/N)\n",
    "#opti.set_initial(T, 50)\n",
    "opti.set_value(T, 25)\n",
    "max_par = 0.2\n",
    "opti.set_value(u_m, max_par)"
   ]
  },
  {
   "cell_type": "code",
   "execution_count": null,
   "metadata": {},
   "outputs": [],
   "source": [
    "sol = opti.solve()"
   ]
  },
  {
   "cell_type": "code",
   "execution_count": null,
   "metadata": {},
   "outputs": [],
   "source": [
    "X_sol = np.zeros([N+1,2])\n",
    "X_sol[:,0] = sol.value(Q)\n",
    "X_sol[:,1] = sol.value(V)\n",
    "plot_results(X_sol, sol.value(U)[:-1], sol.value(T), max_par, N)"
   ]
  },
  {
   "cell_type": "code",
   "execution_count": null,
   "metadata": {},
   "outputs": [],
   "source": [
    "print_phase_space(X_sol)"
   ]
  },
  {
   "cell_type": "markdown",
   "metadata": {},
   "source": [
    "anim = create_anim(X_sol, sol.value(U)[:-1])"
   ]
  },
  {
   "cell_type": "markdown",
   "metadata": {},
   "source": [
    "HTML(anim.to_jshtml())"
   ]
  },
  {
   "cell_type": "code",
   "execution_count": null,
   "metadata": {
    "scrolled": false
   },
   "outputs": [],
   "source": [
    "xx = integrate_rk4(DM([0,0]), sol.value(U)[:-1], sol.value(T)/N)\n",
    "plot_results_sim(sol.value(U)[:-1], xx, sol.value(T), 0.1, N)"
   ]
  },
  {
   "cell_type": "code",
   "execution_count": null,
   "metadata": {
    "scrolled": true
   },
   "outputs": [],
   "source": [
    "print_phase_space(xx)"
   ]
  },
  {
   "cell_type": "markdown",
   "metadata": {},
   "source": [
    "## Energy test"
   ]
  },
  {
   "cell_type": "code",
   "execution_count": null,
   "metadata": {},
   "outputs": [],
   "source": [
    "import time"
   ]
  },
  {
   "cell_type": "code",
   "execution_count": null,
   "metadata": {},
   "outputs": [],
   "source": [
    "def pend_RK4(q0 = 1, T = 20, N = 50):\n",
    "    t0 = time.time()\n",
    "    xx = integrate_rk4(np.array([q0,0.]), np.zeros(N), T/N)\n",
    "    t1 = time.time()\n",
    "    return np.array(xx), np.zeros(N), t1-t0"
   ]
  },
  {
   "cell_type": "code",
   "execution_count": null,
   "metadata": {},
   "outputs": [],
   "source": [
    "def pend_trapz(q0 = 1, T = 20, N = 50):\n",
    "    t0 = time.time()\n",
    "    xx = integrate_trapz(np.array([q0,0.]), np.zeros(N), T/N)\n",
    "    t1 = time.time()\n",
    "    return np.array(xx), np.zeros(N), t1-t0"
   ]
  },
  {
   "cell_type": "markdown",
   "metadata": {},
   "source": [
    "### Trapezoidal implícita normal para comparar"
   ]
  },
  {
   "cell_type": "code",
   "execution_count": null,
   "metadata": {},
   "outputs": [],
   "source": [
    "q = MX.sym('q')\n",
    "v = MX.sym('v')\n",
    "t = MX.sym('t')\n",
    "dt = MX.sym('dt')\n",
    "u = MX.sym('u')\n",
    "\n",
    "rhs = u-sin(q)\n",
    "F1d = Function('F', [q, u], [rhs])\n",
    "\n",
    "\n",
    "q_n = MX.sym('q_n')\n",
    "u_n = MX.sym('u_n')\n",
    "v_n = MX.sym('v_n')\n",
    "v_n_expr = v + (1/2) * dt * (F1d(q_n,u_n) + F1d(q,u))\n",
    "q_n_expr = q + (1/2) * dt * (v + v_n)\n",
    "\n",
    "new_q_tr = Function('New_q', [q, v, v_n, u, u_n, dt], [q_n_expr])\n",
    "new_v_tr = Function('New_v', [q, q_n, v, u, u_n, dt], [v_n_expr])"
   ]
  },
  {
   "cell_type": "code",
   "execution_count": null,
   "metadata": {},
   "outputs": [],
   "source": [
    "q = MX.sym('q')\n",
    "v = MX.sym('v')\n",
    "t = MX.sym('t')\n",
    "dt = MX.sym('dt')\n",
    "u = MX.sym('u')\n",
    "\n",
    "rhs = u-sin(q)\n",
    "F1d = Function('F', [q, u], [rhs])\n",
    "\n",
    "\n",
    "q_n = MX.sym('q_n')\n",
    "u_n = MX.sym('u_n')\n",
    "v_n = MX.sym('v_n')\n",
    "v_n_expr = v + (1/2) * dt * (F1d(q_n,u_n) + F1d(q,u))\n",
    "q_n_expr = q + v * dt + (1/4) * dt**2 * (F1d(q_n,u_n) + F1d(q,u))\n",
    "\n",
    "new_q_tr_2 = Function('New_q', [q, q_n, v, u, u_n, dt], [q_n_expr])\n",
    "new_v_tr_2 = Function('New_v', [q, q_n, v, u, u_n, dt], [v_n_expr])"
   ]
  },
  {
   "cell_type": "code",
   "execution_count": null,
   "metadata": {},
   "outputs": [],
   "source": [
    "def pend_trapz_casadi(q0 = 1, T = 20, N = 50):\n",
    "    opti = Opti()\n",
    "    opti.solver('ipopt')\n",
    "\n",
    "    Q = opti.variable(N+1)\n",
    "    V = opti.variable(N+1)\n",
    "    U = opti.variable(N+1)\n",
    "    u_m = opti.parameter()\n",
    "\n",
    "    cost = sum1(U**2) \n",
    "    opti.minimize(cost)\n",
    "\n",
    "    opti.subject_to(Q[0] == q0)\n",
    "    opti.subject_to(V[0] == 0)\n",
    "\n",
    "\n",
    "    for ii in range(N):\n",
    "        opti.subject_to(Q[ii+1] == new_q_tr(Q[ii], V[ii], V[ii+1], U[ii], U[ii+1], T/N))\n",
    "        opti.subject_to(V[ii+1] == new_v_tr(Q[ii], Q[ii+1], V[ii], U[ii], U[ii+1], T/N))\n",
    "        opti.subject_to(opti.bounded(-u_m,U[ii],u_m))\n",
    "        \n",
    "    xx = integrate_rk4(DM([q0,0]), np.zeros(N), T/N)\n",
    "    opti.set_initial(Q, xx[:,0])\n",
    "    opti.set_initial(V, xx[:,1])\n",
    "    opti.set_initial(U, 0)\n",
    "    max_par = 0.0\n",
    "    opti.set_value(u_m, max_par)\n",
    "    \n",
    "    t0 = time.time()\n",
    "    sol_tr = opti.solve()\n",
    "    t1 = time.time()\n",
    "    \n",
    "    X_sol_tr = np.zeros([N+1,2])\n",
    "    X_sol_tr[:,0] = sol_tr.value(Q)\n",
    "    X_sol_tr[:,1] = sol_tr.value(V)\n",
    "    return X_sol_tr, sol_tr.value(U), t1-t0"
   ]
  },
  {
   "cell_type": "code",
   "execution_count": null,
   "metadata": {},
   "outputs": [],
   "source": [
    "def pend_trapz_casadi_2(q0 = 1, T = 20, N = 50):\n",
    "    opti = Opti()\n",
    "    opti.solver('ipopt')\n",
    "\n",
    "    Q = opti.variable(N+1)\n",
    "    V = opti.variable(N+1)\n",
    "    U = opti.variable(N+1)\n",
    "    u_m = opti.parameter()\n",
    "\n",
    "    cost = sum1(U**2) \n",
    "    opti.minimize(cost)\n",
    "\n",
    "    opti.subject_to(Q[0] == q0)\n",
    "    opti.subject_to(V[0] == 0)\n",
    "\n",
    "\n",
    "    for ii in range(N):\n",
    "        opti.subject_to(Q[ii+1] == new_q_tr_2(Q[ii], Q[ii+1], V[ii], U[ii], U[ii+1], T/N))\n",
    "        opti.subject_to(V[ii+1] == new_v_tr_2(Q[ii], Q[ii+1], V[ii], U[ii], U[ii+1], T/N))\n",
    "        opti.subject_to(opti.bounded(-u_m,U[ii],u_m))\n",
    "        \n",
    "    xx = integrate_rk4(DM([q0,0]), np.zeros(N), T/N)\n",
    "    opti.set_initial(Q, xx[:,0])\n",
    "    opti.set_initial(V, xx[:,1])\n",
    "    opti.set_initial(U, 0)\n",
    "    max_par = 0.0\n",
    "    opti.set_value(u_m, max_par)\n",
    "    \n",
    "    t0 = time.time()\n",
    "    sol_tr = opti.solve()\n",
    "    t1 = time.time()\n",
    "    \n",
    "    X_sol_tr = np.zeros([N+1,2])\n",
    "    X_sol_tr[:,0] = sol_tr.value(Q)\n",
    "    X_sol_tr[:,1] = sol_tr.value(V)\n",
    "    return X_sol_tr, sol_tr.value(U), t1-t0"
   ]
  },
  {
   "cell_type": "code",
   "execution_count": null,
   "metadata": {},
   "outputs": [],
   "source": [
    "T_test = 120\n",
    "N_test = 100"
   ]
  },
  {
   "cell_type": "code",
   "execution_count": null,
   "metadata": {},
   "outputs": [],
   "source": [
    "X_sol_tr, U_sol_tr, _ = pend_trapz_casadi(q0 = 2, T = T_test, N = N_test)"
   ]
  },
  {
   "cell_type": "code",
   "execution_count": null,
   "metadata": {},
   "outputs": [],
   "source": [
    "plot_results(X_sol_tr, U_sol_tr[:-1], T_test, 0, N_test)\n",
    "plt.title('trapezoidal clásico')"
   ]
  },
  {
   "cell_type": "code",
   "execution_count": null,
   "metadata": {},
   "outputs": [],
   "source": [
    "X_sol_tr, U_sol_tr, _ = pend_trapz(q0 = 2, T = T_test, N = N_test)"
   ]
  },
  {
   "cell_type": "code",
   "execution_count": null,
   "metadata": {},
   "outputs": [],
   "source": [
    "plot_results(X_sol_tr, U_sol_tr, T_test, 0, N_test)\n",
    "plt.title('trapezoidal clásico')"
   ]
  },
  {
   "cell_type": "markdown",
   "metadata": {},
   "source": [
    "### Trapezoidal modificada"
   ]
  },
  {
   "cell_type": "code",
   "execution_count": null,
   "metadata": {},
   "outputs": [],
   "source": [
    "def trapz_mod_opti_step(x_n, x, u, u_n, dt):\n",
    "    f = u-np.sin(x[0])\n",
    "    f_n = u_n-np.sin(x_n[0])\n",
    "    res = np.zeros_like(x_n)\n",
    "    res[1] = x[1] + dt/2*(f+f_n) - x_n[1]\n",
    "    res[0] = x[0] + dt * x[1] + dt**2/6*(f_n + 2*f) - x_n[0]\n",
    "    return res\n",
    "\n",
    "def trapz_mod_step(x, u, u_n, dt):\n",
    "    x_n = root(trapz_mod_opti_step, x, (x, u, u_n, dt))\n",
    "    return x_n.x\n",
    "\n",
    "def integrate_trapz_mod(x_0, u, dt):\n",
    "    x = [x_0,]\n",
    "    u = np.append(u, u[-1])\n",
    "    for ii in range(len(u)-1):\n",
    "        x_i = trapz_mod_step(x[-1], u[ii], u[ii+1], dt)\n",
    "        x.append(x_i)\n",
    "    return horzcat(*x).T\n",
    "\n",
    "def pend_trapz_mod(q0 = 1, T = 20, N = 50):\n",
    "    t0 = time.time()\n",
    "    xx = integrate_trapz_mod(np.array([q0,0.]), np.zeros(N), T/N)\n",
    "    t1 = time.time()\n",
    "    return np.array(xx), np.zeros(N), t1-t0"
   ]
  },
  {
   "cell_type": "code",
   "execution_count": null,
   "metadata": {},
   "outputs": [],
   "source": [
    "_ = trapz_mod_step(np.array([1.,0.]), 0,0,0.3)\n",
    "_"
   ]
  },
  {
   "cell_type": "code",
   "execution_count": null,
   "metadata": {},
   "outputs": [],
   "source": [
    "trapz_mod_opti_step(_, np.array([1.,0.]), 0,0,0.3)"
   ]
  },
  {
   "cell_type": "code",
   "execution_count": null,
   "metadata": {},
   "outputs": [],
   "source": [
    "def pend_trapz_mod_casadi(q0 = 1, T = 20, N = 50):\n",
    "    opti = Opti()\n",
    "    opti.solver('ipopt')\n",
    "\n",
    "    Q = opti.variable(N+1)\n",
    "    V = opti.variable(N+1)\n",
    "    U = opti.variable(N+1)\n",
    "    u_m = opti.parameter()\n",
    "\n",
    "    cost = sum1(U**2) \n",
    "    opti.minimize(cost)\n",
    "\n",
    "    opti.subject_to(Q[0] == q0)\n",
    "    opti.subject_to(V[0] == 0)\n",
    "\n",
    "\n",
    "    for ii in range(N):\n",
    "        opti.subject_to(Q[ii+1] == new_q(Q[ii], Q[ii+1], V[ii], U[ii], U[ii+1], T/N))\n",
    "        opti.subject_to(V[ii+1] == new_v(Q[ii], Q[ii+1], V[ii], U[ii], U[ii+1], T/N))\n",
    "        opti.subject_to(opti.bounded(-u_m,U[ii],u_m))\n",
    "        \n",
    "    xx = integrate_rk4(DM([q0,0]), np.zeros(N), T/N)\n",
    "    opti.set_initial(Q, xx[:,0])\n",
    "    opti.set_initial(V, xx[:,1])\n",
    "    opti.set_initial(U, 0)\n",
    "    max_par = 0.0\n",
    "    opti.set_value(u_m, max_par)\n",
    "    \n",
    "    t0 = time.time()\n",
    "    sol_tr = opti.solve()\n",
    "    t1 = time.time()\n",
    "    \n",
    "    X_sol_tr = np.zeros([N+1,2])\n",
    "    X_sol_tr[:,0] = sol_tr.value(Q)\n",
    "    X_sol_tr[:,1] = sol_tr.value(V)\n",
    "    return X_sol_tr, sol_tr.value(U), t1-t0"
   ]
  },
  {
   "cell_type": "code",
   "execution_count": null,
   "metadata": {},
   "outputs": [],
   "source": [
    "X_sol, U_sol, _ = pend_trapz_mod_casadi(q0 = 2, T = T_test, N = N_test)"
   ]
  },
  {
   "cell_type": "code",
   "execution_count": null,
   "metadata": {},
   "outputs": [],
   "source": [
    "plot_results(X_sol, U_sol[:-1], T_test, 0, N_test)\n",
    "plt.title('trapezoidal modificada')"
   ]
  },
  {
   "cell_type": "code",
   "execution_count": null,
   "metadata": {},
   "outputs": [],
   "source": [
    "X_sol, U_sol, _ = pend_trapz_mod(q0 = 2, T = T_test, N = N_test)"
   ]
  },
  {
   "cell_type": "code",
   "execution_count": null,
   "metadata": {},
   "outputs": [],
   "source": [
    "plot_results(X_sol, U_sol, T_test, 0, N_test)\n",
    "plt.title('trapezoidal modificada')"
   ]
  },
  {
   "cell_type": "code",
   "execution_count": null,
   "metadata": {},
   "outputs": [],
   "source": [
    "print_phase_space(X_sol)"
   ]
  },
  {
   "cell_type": "code",
   "execution_count": null,
   "metadata": {
    "scrolled": false
   },
   "outputs": [],
   "source": [
    "xx = integrate_rk4(DM([2,0]), U_sol, T_test/N_test)\n",
    "plot_results_sim(U_sol, xx, T_test, 0.0, N_test)\n",
    "plt.title('Propagando RK4')"
   ]
  },
  {
   "cell_type": "markdown",
   "metadata": {},
   "source": [
    "## Comparing Errors"
   ]
  },
  {
   "cell_type": "code",
   "execution_count": null,
   "metadata": {},
   "outputs": [],
   "source": [
    "from scipy.interpolate import CubicHermiteSpline as hermite"
   ]
  },
  {
   "cell_type": "code",
   "execution_count": null,
   "metadata": {},
   "outputs": [],
   "source": [
    "def new_trap_interp_q(q, q_n, v, u, u_n, tau, h):\n",
    "    res = q + v * tau + 1/2 * F1d(q,u) * tau**2 + 1/(6*h) * tau**3 * (F1d(q_n,u_n) - F1d(q,u))\n",
    "    return res\n",
    "def trap_interp_q(q, v, v_n, tau, h):\n",
    "    res = q + v * tau + 1/(2*h) * tau**2 * (v_n - v)\n",
    "    return res\n",
    "def new_trap_interp_v(q, q_n, v, u, u_n, tau, h):\n",
    "    res = v + tau * F1d(q,u) + tau**2 / (2*h) * (F1d(q_n,u_n) - F1d(q,u))\n",
    "    return res\n",
    "def newpoint(Q, V, U, h, t, scheme):\n",
    "    n = int(t//h)\n",
    "    tau = t%h\n",
    "    #print(f't = {t} , tau = {tau} , n = {n} , h = {h}')\n",
    "    if abs(tau) < h*Q.size*1e-10:\n",
    "        q = Q[n]\n",
    "        v = V[n]\n",
    "    else:\n",
    "        if scheme == 'mod':\n",
    "            q = new_trap_interp_q(Q[n], Q[n+1], V[n], U[n], U[n+1], tau, h)\n",
    "        elif scheme == 'trapz':\n",
    "            q = trap_interp_q(Q[n], V[n], V[n+1], tau, h)\n",
    "        else:\n",
    "            raise NameError(f'scheme {scheme} not recognized')\n",
    "        v = new_trap_interp_v(Q[n], Q[n+1], V[n], U[n], U[n+1], tau, h)\n",
    "    return q,v\n",
    "def newtrap_interpolated_array(Q, V, U, h, t_array, scheme = 'mod'):\n",
    "    N = t_array.size\n",
    "    new_Q = np.zeros(N)\n",
    "    new_V = np.zeros(N)\n",
    "    if Q.size != U.size:\n",
    "        U = np.append(U, U[-1])\n",
    "    old_t_array = np.linspace(0, (Q.size-1)*h, Q.size)\n",
    "    #print(Q.size, U.size, old_t_array.size, Q, U, old_t_array)\n",
    "    new_U = np.interp(t_array, old_t_array, U)\n",
    "    if scheme == 'hermite':\n",
    "        q_interp = hermite(old_t_array, Q, V)\n",
    "        new_Q = q_interp(t_array)\n",
    "        A = U-np.sin(Q)\n",
    "        v_interp = hermite(old_t_array, V, A)\n",
    "        new_V = v_interp(t_array)\n",
    "    else:\n",
    "        for ii in range(N):\n",
    "            new_Q[ii], new_V[ii] = newpoint(Q, V, U, h, t_array[ii], scheme)\n",
    "    return new_Q, new_V, new_U"
   ]
  },
  {
   "cell_type": "code",
   "execution_count": null,
   "metadata": {},
   "outputs": [],
   "source": [
    "plot_results(X_sol[:22,:], U_sol[:21], T_test*21/N_test, 0, 21)"
   ]
  },
  {
   "cell_type": "code",
   "execution_count": null,
   "metadata": {},
   "outputs": [],
   "source": [
    "N_interp = 400\n",
    "t_array_interp = np.linspace(0, 20, N_interp)\n",
    "new_Q, new_V, new_U = newtrap_interpolated_array(X_sol[:,0], X_sol[:,1], U_sol,\n",
    "                                                 T_test/N_test, t_array_interp, 'mod')\n",
    "X_interp = np.zeros([N_interp,2])\n",
    "X_interp[:,0] = new_Q\n",
    "X_interp[:,1] = new_V\n",
    "plot_results(X_interp, new_U[:-1], t_array_interp[-1], max_par, N_interp-1, figsize = [20,15])\n",
    "plt.plot(np.linspace(0, T_test, N_test+1)[:17], X_sol[:,0][:17], 'k.')\n",
    "plt.plot(np.linspace(0, T_test, N_test+1)[:17], X_sol[:,1][:17], 'k.')"
   ]
  },
  {
   "cell_type": "markdown",
   "metadata": {},
   "source": [
    "## Comparación con trapezoidal normal"
   ]
  },
  {
   "cell_type": "code",
   "execution_count": null,
   "metadata": {},
   "outputs": [],
   "source": [
    "N_interp = 400\n",
    "t_array_interp = np.linspace(0, 20, N_interp)\n",
    "new_Q, new_V, new_U = newtrap_interpolated_array(X_sol_tr[:,0], X_sol_tr[:,1], U_sol_tr,\n",
    "                                                 T_test/N_test, t_array_interp, 'trapz')\n",
    "X_interp_tr = np.zeros([N_interp,2])\n",
    "X_interp_tr[:,0] = new_Q\n",
    "X_interp_tr[:,1] = new_V\n",
    "plot_results(X_interp_tr, new_U[:-1], t_array_interp[-1], max_par, N_interp-1, figsize = [20,15])\n",
    "plt.plot(np.linspace(0, T_test, N_test+1)[:17], X_sol_tr[:,0][:17], 'k.')\n",
    "plt.plot(np.linspace(0, T_test, N_test+1)[:17], X_sol_tr[:,1][:17], 'k.')"
   ]
  },
  {
   "cell_type": "code",
   "execution_count": null,
   "metadata": {},
   "outputs": [],
   "source": [
    "X_sol_rk4, U_sol_rk4, _ = pend_RK4(q0 = 2, T = T_test, N = N_test)\n",
    "new_Q, new_V, new_U = newtrap_interpolated_array(X_sol_rk4[:,0], X_sol_rk4[:,1], U_sol_rk4,\n",
    "                                                 T_test/N_test, t_array_interp, 'hermite')\n",
    "X_interp_rk4 = np.zeros([N_interp,2])\n",
    "X_interp_rk4[:,0] = new_Q\n",
    "X_interp_rk4[:,1] = new_V\n",
    "plot_results(X_interp_rk4, new_U[:-1], t_array_interp[-1], max_par, N_interp-1, figsize = [20,15])\n",
    "plt.plot(np.linspace(0, T_test, N_test+1)[:17], X_sol_rk4[:,0][:17], 'k.')\n",
    "plt.plot(np.linspace(0, T_test, N_test+1)[:17], X_sol_rk4[:,1][:17], 'k.')"
   ]
  },
  {
   "cell_type": "code",
   "execution_count": null,
   "metadata": {},
   "outputs": [],
   "source": [
    "from scipy.special import ellipj, ellipk"
   ]
  },
  {
   "cell_type": "code",
   "execution_count": null,
   "metadata": {},
   "outputs": [],
   "source": [
    "def exact_pendulum(t, q0 = 1, omega_0 = 1):\n",
    "    m = np.sin(q0/2)**2\n",
    "    u = ellipk(m) - omega_0 * t\n",
    "    return 2 * np.arcsin(np.sin(q0/2) * ellipj(u,m)[0])"
   ]
  },
  {
   "cell_type": "code",
   "execution_count": null,
   "metadata": {},
   "outputs": [],
   "source": [
    "plt.figure(figsize=[15,10])\n",
    "plt.plot(t_array_interp, exact_pendulum(t_array_interp, 2), 'r', label = 'exact')\n",
    "plt.plot(t_array_interp, X_interp[:,0], label = 'modified trapezoid')\n",
    "plt.plot(t_array_interp, X_interp_tr[:,0], label = 'normal trapezoid')\n",
    "plt.plot(t_array_interp, X_interp_rk4[:,0],  label = 'RK4')\n",
    "plt.plot(np.linspace(0, T_test, N_test+1)[:17], X_sol_tr[:,0][:17], 'k.')\n",
    "plt.plot(np.linspace(0, T_test, N_test+1)[:17], X_sol[:,0][:17], 'k.')\n",
    "plt.plot(np.linspace(0, T_test, N_test+1)[:17], exact_pendulum(np.linspace(0, T_test, N_test+1)[:17], 2), 'k.')\n",
    "plt.plot(np.linspace(0, T_test, N_test+1)[:17], X_sol_rk4[:,0][:17], 'k.')\n",
    "plt.legend()\n",
    "plt.grid()"
   ]
  },
  {
   "cell_type": "markdown",
   "metadata": {},
   "source": [
    "### Comparando error de los puntos generados\n",
    "Error cuadrático medio de 100 puntos en función de h"
   ]
  },
  {
   "cell_type": "code",
   "execution_count": null,
   "metadata": {},
   "outputs": [],
   "source": [
    "def plot_comparison(time, Q_exact, Q_trapz, Q_mod, Q_rk4, figsize=[10,7]):\n",
    "    plt.figure(figsize=figsize)\n",
    "    plt.plot(time, Q_exact, label = 'exact')\n",
    "    plt.plot(time, Q_mod, label = 'modified trapezoid')\n",
    "    plt.plot(time, Q_trapz, label = 'normal trapezoid')\n",
    "    plt.plot(time, Q_rk4, label = 'RK4')\n",
    "    plt.legend()\n",
    "    plt.grid()"
   ]
  },
  {
   "cell_type": "code",
   "execution_count": null,
   "metadata": {
    "scrolled": true
   },
   "outputs": [],
   "source": [
    "timescales = [0.1, 0.2, 0.5, 0.6, 0.7, 1, 2, 5, 10, 25, 50, 70, 80, 90, 100]\n",
    "\n",
    "eqm_trapz = []\n",
    "eqm_mod = []\n",
    "eqm_rk4 = []\n",
    "\n",
    "dt_trapz = []\n",
    "dt_mod = []\n",
    "dt_rk4 = []\n",
    "\n",
    "N = 100\n",
    "q0 = 2\n",
    "plots = False\n",
    "for T in timescales:\n",
    "    X_sol_mod, _ , dt_mod_i = pend_trapz_mod(q0 = q0, T = T, N = N)\n",
    "    X_sol_tr, _ , dt_trapz_i = pend_trapz(q0 = q0, T = T, N = N)\n",
    "    X_sol_rk4, _ , dt_rk4_i = pend_RK4(q0 = q0, T = T, N = N)\n",
    "    Q_exact = exact_pendulum(np.linspace(0, T, N+1), q0)\n",
    "    \n",
    "    eqm_trapz.append(np.mean((Q_exact - X_sol_tr[:,0])**2))\n",
    "    eqm_mod.append(np.mean((Q_exact - X_sol_mod[:,0])**2))\n",
    "    eqm_rk4.append(np.mean((Q_exact - X_sol_rk4[:,0])**2))\n",
    "    \n",
    "    dt_trapz.append(dt_trapz_i)\n",
    "    dt_mod.append(dt_mod_i)\n",
    "    dt_rk4.append(dt_rk4_i)\n",
    "    \n",
    "    if plots:\n",
    "        plot_comparison(np.linspace(0,T,N+1),\n",
    "                   Q_exact,\n",
    "                   X_sol_tr[:,0],\n",
    "                   X_sol_mod[:,0],\n",
    "                   X_sol_rk4[:,0])\n"
   ]
  },
  {
   "cell_type": "code",
   "execution_count": null,
   "metadata": {},
   "outputs": [],
   "source": [
    "plt.figure(figsize=[15,10])\n",
    "h_scales = np.array(timescales)/N\n",
    "plt.plot(h_scales, eqm_trapz, label = 'normal trapezoid')\n",
    "plt.plot(h_scales, eqm_mod, label = 'modified trapezoid')\n",
    "plt.plot(h_scales, eqm_rk4, label = 'RK4')\n",
    "plt.vlines(h_scales, np.min(eqm_rk4)*0.9, np.max(eqm_trapz)*1.1, 'k', 'dotted')\n",
    "plt.hlines(4, min(h_scales), max(h_scales), 'k', 'dotted')\n",
    "plt.legend()\n",
    "plt.grid()\n",
    "plt.yscale('log')\n",
    "plt.xscale('log')\n",
    "plt.xlabel('h')\n",
    "plt.ylabel('Error cuadrático medio')"
   ]
  },
  {
   "cell_type": "code",
   "execution_count": null,
   "metadata": {},
   "outputs": [],
   "source": [
    "plt.figure(figsize=[15,10])\n",
    "h_scales = np.array(timescales)/N\n",
    "plt.plot(h_scales, dt_trapz, label = 'normal trapezoid')\n",
    "plt.plot(h_scales, dt_mod, label = 'modified trapezoid')\n",
    "plt.plot(h_scales, dt_rk4, label = 'RK4')\n",
    "plt.vlines(h_scales, np.min(dt_rk4)*0.9, np.max(dt_trapz)*1.1, 'k', 'dotted')\n",
    "plt.legend()\n",
    "plt.grid()\n",
    "plt.yscale('log')\n",
    "plt.xscale('log')\n",
    "plt.xlabel('h')\n",
    "plt.ylabel('Tiempo de proceso (s)')"
   ]
  },
  {
   "cell_type": "markdown",
   "metadata": {},
   "source": [
    "## Comparando error de interpolaciones\n",
    "Interpolando con 200 puntos, generando 15 puntos"
   ]
  },
  {
   "cell_type": "code",
   "execution_count": null,
   "metadata": {},
   "outputs": [],
   "source": [
    "def error_transcr(Q, V, U, h):\n",
    "    if Q.size != U.size:\n",
    "        U = np.append(U, U[-1])\n",
    "    Qdot = (Q[2:]-Q[:-2])/(2*h)\n",
    "    Vdot = (V[2:]-V[:-2])/(2*h)\n",
    "    fv_arr = U[1:-1]-np.sin(Q[1:-1])\n",
    "    eps_Q = np.abs(Qdot - V[1:-1])\n",
    "    eps_V = np.abs(Vdot- fv_arr)\n",
    "    return eps_Q, eps_V\n",
    "\n",
    "def error_transcr_medio(Q, V, U, h):\n",
    "    eps_Q, eps_V = error_transcr(Q, V, U, h)\n",
    "    return np.mean(eps_Q + eps_V)"
   ]
  },
  {
   "cell_type": "code",
   "execution_count": null,
   "metadata": {},
   "outputs": [],
   "source": [
    "timescales_int = [0.1, 0.2, 0.5, 1, 2, 5, 7, 8, 9, 10, 15, 17, 20, 22, 25]\n",
    "\n",
    "eqm_trapz_int = []\n",
    "eqm_mod_int = []\n",
    "eqm_rk4_int = []\n",
    "\n",
    "dt_trapz_int = []\n",
    "dt_mod_int = []\n",
    "dt_rk4_int = []\n",
    "\n",
    "err_trans_trapz = []\n",
    "err_trans_mod = []\n",
    "err_trans_rk4 = []\n",
    "\n",
    "N = 15\n",
    "q0 = 2\n",
    "N_interp = 1000\n",
    "plots = False\n",
    "\n",
    "for T in timescales_int:\n",
    "    \n",
    "    t_array_interp = np.linspace(0, T, N_interp)\n",
    "    h = t_array_interp[1]-t_array_interp[0]\n",
    "    \n",
    "    X_sol_mod, U_sol_mod , dt_trapz_i = pend_trapz_mod(q0 = q0, T = T, N = N)\n",
    "    Q_mod, V_mod, U_mod = newtrap_interpolated_array(X_sol_mod[:,0], X_sol_mod[:,1], U_sol_mod,\n",
    "                                                     T/N, t_array_interp, 'mod')\n",
    "    #print(U_sol_mod)\n",
    "    X_sol_tr, U_sol_tr , dt_mod_i = pend_trapz(q0 = q0, T = T, N = N)\n",
    "    Q_tr, V_tr, U_tr = newtrap_interpolated_array(X_sol_tr[:,0], X_sol_tr[:,1], U_sol_tr,\n",
    "                                                     T/N, t_array_interp, 'trapz')\n",
    "    \n",
    "    X_sol_rk4, U_sol_rk4 , dt_rk4_i = pend_RK4(q0 = 2, T = T, N = N)\n",
    "    Q_rk4, V_rk4, U_rk4 = newtrap_interpolated_array(X_sol_rk4[:,0], X_sol_rk4[:,1], U_sol_rk4,\n",
    "                                                     T/N, t_array_interp, 'hermite')\n",
    "\n",
    "\n",
    "    Q_exact = exact_pendulum(np.linspace(0, T, N_interp), q0)\n",
    "    \n",
    "    eqm_trapz_int.append(np.mean((Q_exact - Q_tr)**2))\n",
    "    eqm_mod_int.append(np.mean((Q_exact - Q_mod)**2))\n",
    "    eqm_rk4_int.append(np.mean((Q_exact - Q_rk4)**2))\n",
    "    \n",
    "    dt_trapz_int.append(dt_trapz_i)\n",
    "    dt_mod_int.append(dt_mod_i)\n",
    "    dt_rk4_int.append(dt_rk4_i)\n",
    "    \n",
    "    err_trans_trapz.append(error_transcr_medio(Q_tr, V_tr, U_tr, h))\n",
    "    err_trans_mod.append(error_transcr_medio(Q_mod, V_mod, U_mod, h))\n",
    "    err_trans_rk4.append(error_transcr_medio(Q_rk4, V_rk4, U_rk4, h))\n",
    "    \n",
    "    print(f' T = {T}, N = {N}, err = {error_transcr_medio(Q_mod, V_mod, U_mod, h)}')\n",
    "    if plots:\n",
    "        plot_comparison(np.linspace(0,T,N_interp),\n",
    "                   Q_exact,\n",
    "                   Q_tr,\n",
    "                   Q_mod,\n",
    "                   Q_rk4)\n",
    "        \n",
    "        plt.plot(np.linspace(0, T, N+1), X_sol_tr[:,0], 'k.')\n",
    "        plt.plot(np.linspace(0, T, N+1), X_sol_mod[:,0], 'k.')\n",
    "        plt.plot(np.linspace(0, T, N+1), X_sol_rk4[:,0], 'k.')\n"
   ]
  },
  {
   "cell_type": "code",
   "execution_count": null,
   "metadata": {},
   "outputs": [],
   "source": [
    "plt.figure(figsize=[15,10])\n",
    "h_scales = np.array(timescales_int)/N\n",
    "plt.plot(h_scales, eqm_trapz_int, label = 'normal trapezoid')\n",
    "plt.plot(h_scales, eqm_mod_int, label = 'modified trapezoid')\n",
    "plt.plot(h_scales, eqm_rk4_int, label = 'RK4')\n",
    "plt.vlines(h_scales, np.min(eqm_rk4_int)*0.9, np.max(eqm_trapz_int)*1.1, 'k', 'dotted')\n",
    "plt.hlines(4, min(h_scales), max(h_scales), 'k', 'dotted')\n",
    "plt.legend()\n",
    "plt.grid()\n",
    "plt.yscale('log')\n",
    "plt.xscale('log')\n",
    "plt.xlabel('h')\n",
    "plt.ylabel('Error cuadrático medio')"
   ]
  },
  {
   "cell_type": "code",
   "execution_count": null,
   "metadata": {},
   "outputs": [],
   "source": [
    "plt.figure(figsize=[15,10])\n",
    "h_scales = np.array(timescales_int)/N\n",
    "plt.plot(h_scales, err_trans_trapz, label = 'normal trapezoid')\n",
    "plt.plot(h_scales, err_trans_mod, label = 'modified trapezoid')\n",
    "plt.plot(h_scales, err_trans_rk4, label = 'RK4')\n",
    "plt.vlines(h_scales, np.min(err_trans_rk4)*0.9, np.max(err_trans_trapz)*1.1, 'k', 'dotted')\n",
    "#plt.hlines(4, min(h_scales), max(h_scales), 'k', 'dotted')\n",
    "plt.legend()\n",
    "plt.grid()\n",
    "plt.yscale('log')\n",
    "plt.xscale('log')\n",
    "plt.xlabel('h')\n",
    "plt.ylabel('Error de transcripción medio')"
   ]
  },
  {
   "cell_type": "code",
   "execution_count": null,
   "metadata": {},
   "outputs": [],
   "source": [
    "plt.figure(figsize=[15,10])\n",
    "h_scales = np.array(timescales_int)/N\n",
    "plt.plot(h_scales, dt_trapz_int, label = 'normal trapezoid')\n",
    "plt.plot(h_scales, dt_mod_int, label = 'modified trapezoid')\n",
    "plt.plot(h_scales, dt_rk4_int, label = 'RK4')\n",
    "plt.vlines(h_scales, np.min(dt_rk4_int)*0.9, np.max(dt_mod_int)*1.1, 'k', 'dotted')\n",
    "plt.legend()\n",
    "plt.grid()\n",
    "plt.yscale('log')\n",
    "plt.xscale('log')\n",
    "plt.xlabel('h')\n",
    "plt.ylabel('Tiempo de proceso (s)')"
   ]
  },
  {
   "cell_type": "code",
   "execution_count": null,
   "metadata": {},
   "outputs": [],
   "source": [
    "T_test = 0.1\n",
    "N_test = 15\n",
    "X_sol_mod, U_sol_mod, _ = pend_trapz_mod(q0 = 2, T = T_test, N = N_test)\n",
    "X_sol_tr, U_sol_tr, _ = pend_trapz(q0 = 2, T = T_test, N = N_test)"
   ]
  },
  {
   "cell_type": "code",
   "execution_count": null,
   "metadata": {
    "scrolled": false
   },
   "outputs": [],
   "source": [
    "N_interp = 1000\n",
    "t_array_interp = np.linspace(0, T_test, N_interp)\n",
    "h = t_array_interp[1]-t_array_interp[0]\n",
    "\n",
    "Q_mod, V_mod, U_mod = newtrap_interpolated_array(X_sol_mod[:,0], X_sol_mod[:,1], U_sol_mod,\n",
    "                                                     T_test/N_test, t_array_interp, 'mod')\n",
    "Q_tr, V_tr, U_tr = newtrap_interpolated_array(X_sol_tr[:,0], X_sol_tr[:,1], U_sol_tr,\n",
    "                                                     T_test/N_test, t_array_interp, 'trapz')"
   ]
  },
  {
   "cell_type": "code",
   "execution_count": null,
   "metadata": {},
   "outputs": [],
   "source": [
    "eps_Q_mod, eps_V_mod = error_transcr(Q_mod, V_mod, np.zeros_like(Q_mod), h)\n",
    "eps_Q_tr, eps_V_tr = error_transcr(Q_tr, V_tr, np.zeros_like(Q_tr), h)\n",
    "plt.figure(figsize=[12,8])\n",
    "plt.plot(t_array_interp[1:-1], eps_Q_mod)\n",
    "plt.plot(t_array_interp[1:-1], eps_Q_tr, '--')\n",
    "plt.plot(t_array_interp[1:-1], eps_V_mod)"
   ]
  },
  {
   "cell_type": "markdown",
   "metadata": {},
   "source": [
    "### Comparando matrices"
   ]
  },
  {
   "cell_type": "code",
   "execution_count": null,
   "metadata": {},
   "outputs": [],
   "source": [
    "N=15"
   ]
  },
  {
   "cell_type": "code",
   "execution_count": null,
   "metadata": {
    "scrolled": true
   },
   "outputs": [],
   "source": [
    "opti = Opti()\n",
    "opti.solver('ipopt')\n",
    "\n",
    "Q = opti.variable(N+1)\n",
    "V = opti.variable(N+1)\n",
    "U = opti.variable(N+1)\n",
    "T = opti.parameter()\n",
    "u_m = opti.parameter()\n",
    "#t_m = opti.parameter()\n",
    "\n",
    "cost = sum1(cos(Q)) #**2\n",
    "#cost = T\n",
    "#cost = -sum1(X[:,0])\n",
    "opti.minimize(cost)\n",
    "\n",
    "opti.subject_to(Q[0] == 0)\n",
    "opti.subject_to(V[0] == 0)\n",
    "opti.subject_to(V[-1] == 0)\n",
    "\n",
    "\n",
    "for ii in range(N):\n",
    "    opti.subject_to(Q[ii+1] == new_q(Q[ii], Q[ii+1], V[ii], U[ii], U[ii+1], T/N))\n",
    "    opti.subject_to(V[ii+1] == new_v(Q[ii], Q[ii+1], V[ii], U[ii], U[ii+1], T/N))\n",
    "    opti.subject_to(opti.bounded(-u_m,U[ii],u_m))\n",
    "    \n",
    "opti.set_initial(Q, np.linspace(0, pi, N+1))\n",
    "opti.set_initial(V, pi/N)\n",
    "#opti.set_initial(T, 50)\n",
    "opti.set_value(T, 25)\n",
    "max_par = 0.5\n",
    "opti.set_value(u_m, max_par)\n",
    "\n",
    "sol = opti.solve()\n",
    "\n",
    "spar_mod = sol.value(jacobian(opti.g,opti.x)).toarray()"
   ]
  },
  {
   "cell_type": "code",
   "execution_count": null,
   "metadata": {
    "scrolled": true
   },
   "outputs": [],
   "source": [
    "opti = Opti()\n",
    "opti.solver('ipopt')\n",
    "\n",
    "Q = opti.variable(N+1)\n",
    "V = opti.variable(N+1)\n",
    "U = opti.variable(N+1)\n",
    "T = opti.parameter()\n",
    "u_m = opti.parameter()\n",
    "#t_m = opti.parameter()\n",
    "\n",
    "cost = sum1(cos(Q)) #**2\n",
    "#cost = T\n",
    "#cost = -sum1(X[:,0])\n",
    "opti.minimize(cost)\n",
    "\n",
    "opti.subject_to(Q[0] == 0)\n",
    "opti.subject_to(V[0] == 0)\n",
    "opti.subject_to(V[-1] == 0)\n",
    "\n",
    "\n",
    "for ii in range(N):\n",
    "    opti.subject_to(Q[ii+1] == new_q_tr(Q[ii], V[ii], V[ii+1], U[ii], U[ii+1], T/N))\n",
    "    opti.subject_to(V[ii+1] == new_v_tr(Q[ii], Q[ii+1], V[ii], U[ii], U[ii+1], T/N))\n",
    "    opti.subject_to(opti.bounded(-u_m,U[ii],u_m))\n",
    "    \n",
    "opti.set_initial(Q, np.linspace(0, pi, N+1))\n",
    "opti.set_initial(V, pi/N)\n",
    "#opti.set_initial(T, 50)\n",
    "opti.set_value(T, 25)\n",
    "max_par = 0.5\n",
    "opti.set_value(u_m, max_par)\n",
    "\n",
    "sol = opti.solve()\n",
    "spar_tr = sol.value(jacobian(opti.g,opti.x)).toarray()"
   ]
  },
  {
   "cell_type": "code",
   "execution_count": null,
   "metadata": {
    "scrolled": true
   },
   "outputs": [],
   "source": [
    "opti = Opti()\n",
    "opti.solver('ipopt')\n",
    "\n",
    "Q = opti.variable(N+1)\n",
    "V = opti.variable(N+1)\n",
    "U = opti.variable(N+1)\n",
    "T = opti.parameter()\n",
    "u_m = opti.parameter()\n",
    "#t_m = opti.parameter()\n",
    "\n",
    "cost = sum1(cos(Q)) #**2\n",
    "#cost = T\n",
    "#cost = -sum1(X[:,0])\n",
    "opti.minimize(cost)\n",
    "\n",
    "opti.subject_to(Q[0] == 0)\n",
    "opti.subject_to(V[0] == 0)\n",
    "opti.subject_to(V[-1] == 0)\n",
    "\n",
    "\n",
    "for ii in range(N):\n",
    "    opti.subject_to(Q[ii+1] == new_q_tr_2(Q[ii], Q[ii+1], V[ii], U[ii], U[ii+1], T/N))\n",
    "    opti.subject_to(V[ii+1] == new_v_tr_2(Q[ii], Q[ii+1], V[ii], U[ii], U[ii+1], T/N))\n",
    "    opti.subject_to(opti.bounded(-u_m,U[ii],u_m))\n",
    "    \n",
    "opti.set_initial(Q, np.linspace(0, pi, N+1))\n",
    "opti.set_initial(V, pi/N)\n",
    "#opti.set_initial(T, 50)\n",
    "opti.set_value(T, 25)\n",
    "max_par = 0.5\n",
    "opti.set_value(u_m, max_par)\n",
    "\n",
    "sol = opti.solve()\n",
    "spar_tr_2 = sol.value(jacobian(opti.g,opti.x)).toarray()"
   ]
  },
  {
   "cell_type": "code",
   "execution_count": null,
   "metadata": {
    "scrolled": false
   },
   "outputs": [],
   "source": [
    "plt.spy(spar_mod)\n",
    "plt.title('Modified trapezoidal\\n')"
   ]
  },
  {
   "cell_type": "code",
   "execution_count": null,
   "metadata": {},
   "outputs": [],
   "source": [
    "plt.spy(spar_tr)"
   ]
  },
  {
   "cell_type": "code",
   "execution_count": null,
   "metadata": {},
   "outputs": [],
   "source": [
    "plt.spy(spar_tr_2)"
   ]
  },
  {
   "cell_type": "code",
   "execution_count": null,
   "metadata": {},
   "outputs": [],
   "source": [
    "np.count_nonzero(spar_mod), np.count_nonzero(spar_tr)"
   ]
  },
  {
   "cell_type": "code",
   "execution_count": null,
   "metadata": {},
   "outputs": [],
   "source": [
    "spar_mod.size, spar_tr.size"
   ]
  },
  {
   "cell_type": "markdown",
   "metadata": {},
   "source": [
    "## Hermite Simpson"
   ]
  },
  {
   "cell_type": "code",
   "execution_count": null,
   "metadata": {},
   "outputs": [],
   "source": [
    "def hs_opti_step(x_n, x, u, u_n, dt):\n",
    "    f = u-np.sin(x[0])\n",
    "    f_n = u_n-np.sin(x_n[0])\n",
    "    u_c = (u + u_n)/2\n",
    "    q_c = (x[0]+x_n[0])/2 + dt/8*(x[1]-x_n[1])\n",
    "    v_c = (x[1]+x_n[1])/2 + dt/8*(f-f_n)\n",
    "    f_c = u_c-np.sin(q_c)\n",
    "    res = np.zeros_like(x_n)\n",
    "    res[1] = x[1] + dt/6*(f + 4*f_c + f_n) - x_n[1]\n",
    "    res[0] = x[0] + dt/6*(x[1] + 4*v_c + x_n[1]) - x_n[0]\n",
    "    return res\n",
    "\n",
    "def hs_step(x, u, u_n, dt):\n",
    "    x_n = root(hs_opti_step, x, (x, u, u_n, dt))\n",
    "    return x_n.x\n",
    "\n",
    "def integrate_hs(x_0, u, dt):\n",
    "    x = [x_0,]\n",
    "    u = np.append(u, u[-1])\n",
    "    for ii in range(len(u)-1):\n",
    "        x_i = hs_step(x[-1], u[ii], u[ii+1], dt)\n",
    "        x.append(x_i)\n",
    "    return horzcat(*x).T\n",
    "\n",
    "def pend_HS(q0 = 1, T = 20, N = 50):\n",
    "    t0 = time.time()\n",
    "    xx = integrate_hs(np.array([q0,0.]), np.zeros(N), T/N)\n",
    "    t1 = time.time()\n",
    "    return np.array(xx), np.zeros(N), t1-t0"
   ]
  },
  {
   "cell_type": "code",
   "execution_count": null,
   "metadata": {},
   "outputs": [],
   "source": [
    "q = MX.sym('q')\n",
    "v = MX.sym('v')\n",
    "t = MX.sym('t')\n",
    "dt = MX.sym('dt')\n",
    "u = MX.sym('u')\n",
    "\n",
    "rhs = u-sin(q)\n",
    "F1d = Function('F', [q, u], [rhs])\n",
    "f = F1d(q,u)\n",
    "\n",
    "\n",
    "q_n = MX.sym('q_n')\n",
    "u_n = MX.sym('u_n')\n",
    "v_n = MX.sym('v_n')\n",
    "f_n = F1d(q_n,u_n)\n",
    "\n",
    "q_c = (q + q_n)/2 + dt/8 * (v - v_n)\n",
    "v_c = (v + v_n)/2 + dt/8 * (f - f_n)\n",
    "u_c = (u + u_n)/2\n",
    "f_c = F1d(q_c,u_c)\n",
    "\n",
    "v_n_expr = v + (1/6) * dt * (f + 4*f_c + f_n)\n",
    "q_n_expr = q + (1/6) * dt * (v + 4*v_c + v_n)\n",
    "\n",
    "new_q_HS = Function('New_q', [q, q_n, v, v_n, u, u_n, dt], [q_n_expr])\n",
    "new_v_HS = Function('New_v', [q, q_n, v, v_n, u, u_n, dt], [v_n_expr])"
   ]
  },
  {
   "cell_type": "code",
   "execution_count": null,
   "metadata": {},
   "outputs": [],
   "source": [
    "opti = Opti()\n",
    "opti.solver('ipopt')\n",
    "N = 100\n",
    "Q = opti.variable(N+1)\n",
    "V = opti.variable(N+1)\n",
    "U = opti.variable(N+1)\n",
    "T = opti.parameter()\n",
    "u_m = opti.parameter()\n",
    "#t_m = opti.parameter()\n",
    "\n",
    "cost = sum1(cos(Q)) #**2\n",
    "#cost = T\n",
    "#cost = -sum1(X[:,0])\n",
    "opti.minimize(cost)\n",
    "\n",
    "opti.subject_to(Q[0] == 0)\n",
    "opti.subject_to(V[0] == 0)\n",
    "opti.subject_to(V[-1] == 0)\n",
    "\n",
    "\n",
    "for ii in range(N):\n",
    "    opti.subject_to(Q[ii+1] == new_q_HS(Q[ii], Q[ii+1], V[ii], V[ii+1], U[ii], U[ii+1], T/N))\n",
    "    opti.subject_to(V[ii+1] == new_v_HS(Q[ii], Q[ii+1], V[ii], V[ii+1], U[ii], U[ii+1], T/N))\n",
    "    opti.subject_to(opti.bounded(-u_m,U[ii],u_m))\n"
   ]
  },
  {
   "cell_type": "code",
   "execution_count": null,
   "metadata": {},
   "outputs": [],
   "source": [
    "opti.set_initial(Q, np.linspace(0, pi, N+1))\n",
    "opti.set_initial(V, pi/N)\n",
    "#opti.set_initial(T, 50)\n",
    "opti.set_value(T, 30)\n",
    "max_par = 0.2\n",
    "opti.set_value(u_m, max_par)"
   ]
  },
  {
   "cell_type": "code",
   "execution_count": null,
   "metadata": {},
   "outputs": [],
   "source": [
    "sol = opti.solve()"
   ]
  },
  {
   "cell_type": "code",
   "execution_count": null,
   "metadata": {},
   "outputs": [],
   "source": [
    "X_sol = np.zeros([N+1,2])\n",
    "X_sol[:,0] = sol.value(Q)\n",
    "X_sol[:,1] = sol.value(V)\n",
    "plot_results(X_sol, sol.value(U)[:-1], sol.value(T), max_par, N)"
   ]
  },
  {
   "cell_type": "code",
   "execution_count": null,
   "metadata": {},
   "outputs": [],
   "source": [
    "def pend_HS_casadi(q0 = 1, T = 20, N = 50):\n",
    "    opti = Opti()\n",
    "    opti.solver('ipopt')\n",
    "\n",
    "    Q = opti.variable(N+1)\n",
    "    V = opti.variable(N+1)\n",
    "    U = opti.variable(N+1)\n",
    "    u_m = opti.parameter()\n",
    "\n",
    "    cost = sum1(U**2) \n",
    "    opti.minimize(cost)\n",
    "\n",
    "    opti.subject_to(Q[0] == q0)\n",
    "    opti.subject_to(V[0] == 0)\n",
    "\n",
    "\n",
    "    for ii in range(N):\n",
    "        opti.subject_to(Q[ii+1] == new_q_HS(Q[ii], Q[ii+1], V[ii], V[ii+1], U[ii], U[ii+1], T/N))\n",
    "        opti.subject_to(V[ii+1] == new_v_HS(Q[ii], Q[ii+1], V[ii], V[ii+1], U[ii], U[ii+1], T/N))\n",
    "        opti.subject_to(opti.bounded(-u_m,U[ii],u_m))\n",
    "        \n",
    "    xx = integrate_rk4(DM([q0,0]), np.zeros(N), T/N)\n",
    "    opti.set_initial(Q, xx[:,0])\n",
    "    opti.set_initial(V, xx[:,1])\n",
    "    opti.set_initial(U, 0)\n",
    "    max_par = 0.0\n",
    "    opti.set_value(u_m, max_par)\n",
    "    \n",
    "    t0 = time.time()\n",
    "    sol_tr = opti.solve()\n",
    "    t1 = time.time()\n",
    "    \n",
    "    X_sol_tr = np.zeros([N+1,2])\n",
    "    X_sol_tr[:,0] = sol_tr.value(Q)\n",
    "    X_sol_tr[:,1] = sol_tr.value(V)\n",
    "    return X_sol_tr, sol_tr.value(U), t1-t0"
   ]
  },
  {
   "cell_type": "code",
   "execution_count": null,
   "metadata": {},
   "outputs": [],
   "source": [
    "T_test = 20\n",
    "N_test = 30\n",
    "X_sol_HS, U_sol_HS, _ = pend_HS(q0 = 2, T = T_test, N = N_test)"
   ]
  },
  {
   "cell_type": "code",
   "execution_count": null,
   "metadata": {},
   "outputs": [],
   "source": [
    "plot_results(X_sol_HS, U_sol_HS, T_test, 0, N_test)\n",
    "plt.title('Hermite-Simpson')"
   ]
  },
  {
   "cell_type": "markdown",
   "metadata": {},
   "source": [
    "## Hermite Simpson Modificado"
   ]
  },
  {
   "cell_type": "code",
   "execution_count": null,
   "metadata": {},
   "outputs": [],
   "source": [
    "def hs_mod_opti_step(x_n, x, u, u_n, dt):\n",
    "    f = u-np.sin(x[0])\n",
    "    f_n = u_n-np.sin(x_n[0])\n",
    "    u_c = (u + u_n)/2\n",
    "    q_c = (13*x[0] + 3*x_n[0])/16 + 5*dt/16*x[1] + dt**2/96 * (4*f - f_n)\n",
    "    v_c = (x[1]+x_n[1])/2 + dt/8*(f-f_n)\n",
    "    f_c = u_c-np.sin(q_c)\n",
    "    res = np.zeros_like(x_n)\n",
    "    res[1] = x[1] + dt/6*(f + 4*f_c + f_n) - x_n[1]\n",
    "    res[0] = x[0] + dt*x[1] + dt**2/6*(f + 2*f_c) - x_n[0]\n",
    "    return res\n",
    "\n",
    "def hs_mod_step(x, u, u_n, dt):\n",
    "    x_n = root(hs_mod_opti_step, x, (x, u, u_n, dt))\n",
    "    return x_n.x\n",
    "\n",
    "def integrate_hs_mod(x_0, u, dt):\n",
    "    x = [x_0,]\n",
    "    u = np.append(u, u[-1])\n",
    "    for ii in range(len(u)-1):\n",
    "        x_i = hs_mod_step(x[-1], u[ii], u[ii+1], dt)\n",
    "        x.append(x_i)\n",
    "    return horzcat(*x).T\n",
    "\n",
    "def pend_HS_mod(q0 = 1, T = 20, N = 50):\n",
    "    t0 = time.time()\n",
    "    xx = integrate_hs_mod(np.array([q0,0.]), np.zeros(N), T/N)\n",
    "    t1 = time.time()\n",
    "    return np.array(xx), np.zeros(N), t1-t0"
   ]
  },
  {
   "cell_type": "code",
   "execution_count": null,
   "metadata": {},
   "outputs": [],
   "source": [
    "q = MX.sym('q')\n",
    "v = MX.sym('v')\n",
    "t = MX.sym('t')\n",
    "dt = MX.sym('dt')\n",
    "u = MX.sym('u')\n",
    "\n",
    "rhs = u-sin(q)\n",
    "F1d = Function('F', [q, u], [rhs])\n",
    "f = F1d(q,u)\n",
    "\n",
    "\n",
    "q_n = MX.sym('q_n')\n",
    "u_n = MX.sym('u_n')\n",
    "v_n = MX.sym('v_n')\n",
    "f_n = F1d(q_n,u_n)\n",
    "\n",
    "q_c = (13*q + 3*q_n + 5*v*dt)/16 + dt**2/96 * (4*f - f_n)\n",
    "v_c = (v + v_n)/2 + dt/8 * (f - f_n)\n",
    "u_c = (u + u_n)/2\n",
    "f_c = F1d(q_c,u_c)\n",
    "\n",
    "v_n_expr = v + (1/6) * dt * (f + 4*f_c + f_n)\n",
    "q_n_expr = q + v * dt + (1/6) * dt**2 * (f + 2*f_c)\n",
    "\n",
    "new_q_HS_mod = Function('New_q', [q, q_n, v, v_n, u, u_n, dt], [q_n_expr])\n",
    "new_v_HS_mod = Function('New_v', [q, q_n, v, v_n, u, u_n, dt], [v_n_expr])"
   ]
  },
  {
   "cell_type": "code",
   "execution_count": null,
   "metadata": {},
   "outputs": [],
   "source": [
    "opti = Opti()\n",
    "opti.solver('ipopt')\n",
    "N = 100\n",
    "Q = opti.variable(N+1)\n",
    "V = opti.variable(N+1)\n",
    "U = opti.variable(N+1)\n",
    "T = opti.parameter()\n",
    "u_m = opti.parameter()\n",
    "#t_m = opti.parameter()\n",
    "\n",
    "cost = sum1(cos(Q)) #**2\n",
    "#cost = T\n",
    "#cost = -sum1(X[:,0])\n",
    "opti.minimize(cost)\n",
    "\n",
    "opti.subject_to(Q[0] == 0)\n",
    "opti.subject_to(V[0] == 0)\n",
    "opti.subject_to(V[-1] == 0)\n",
    "\n",
    "\n",
    "for ii in range(N):\n",
    "    opti.subject_to(Q[ii+1] == new_q_HS_mod(Q[ii], Q[ii+1], V[ii], V[ii+1], U[ii], U[ii+1], T/N))\n",
    "    opti.subject_to(V[ii+1] == new_v_HS_mod(Q[ii], Q[ii+1], V[ii], V[ii+1], U[ii], U[ii+1], T/N))\n",
    "    opti.subject_to(opti.bounded(-u_m,U[ii],u_m))\n"
   ]
  },
  {
   "cell_type": "code",
   "execution_count": null,
   "metadata": {},
   "outputs": [],
   "source": [
    "opti.set_initial(Q, np.linspace(0, pi, N+1))\n",
    "opti.set_initial(V, pi/N)\n",
    "#opti.set_initial(T, 50)\n",
    "opti.set_value(T, 30)\n",
    "max_par = 0.2\n",
    "opti.set_value(u_m, max_par)"
   ]
  },
  {
   "cell_type": "code",
   "execution_count": null,
   "metadata": {},
   "outputs": [],
   "source": [
    "sol = opti.solve()"
   ]
  },
  {
   "cell_type": "code",
   "execution_count": null,
   "metadata": {},
   "outputs": [],
   "source": [
    "X_sol = np.zeros([N+1,2])\n",
    "X_sol[:,0] = sol.value(Q)\n",
    "X_sol[:,1] = sol.value(V)\n",
    "plot_results(X_sol, sol.value(U)[:-1], sol.value(T), max_par, N)"
   ]
  },
  {
   "cell_type": "code",
   "execution_count": null,
   "metadata": {},
   "outputs": [],
   "source": [
    "def pend_HS_mod_casadi(q0 = 1, T = 20, N = 50):\n",
    "    opti = Opti()\n",
    "    opti.solver('ipopt')\n",
    "\n",
    "    Q = opti.variable(N+1)\n",
    "    V = opti.variable(N+1)\n",
    "    U = opti.variable(N+1)\n",
    "    u_m = opti.parameter()\n",
    "\n",
    "    cost = sum1(U**2) \n",
    "    opti.minimize(cost)\n",
    "\n",
    "    opti.subject_to(Q[0] == q0)\n",
    "    opti.subject_to(V[0] == 0)\n",
    "\n",
    "\n",
    "    for ii in range(N):\n",
    "        opti.subject_to(Q[ii+1] == new_q_HS_mod(Q[ii], Q[ii+1], V[ii], V[ii+1], U[ii], U[ii+1], T/N))\n",
    "        opti.subject_to(V[ii+1] == new_v_HS_mod(Q[ii], Q[ii+1], V[ii], V[ii+1], U[ii], U[ii+1], T/N))\n",
    "        opti.subject_to(opti.bounded(-u_m,U[ii],u_m))\n",
    "        \n",
    "    xx = integrate_rk4(DM([q0,0]), np.zeros(N), T/N)\n",
    "    opti.set_initial(Q, xx[:,0])\n",
    "    opti.set_initial(V, xx[:,1])\n",
    "    opti.set_initial(U, 0)\n",
    "    max_par = 0.0\n",
    "    opti.set_value(u_m, max_par)\n",
    "    \n",
    "    t0 = time.time()\n",
    "    sol_tr = opti.solve()\n",
    "    t1 = time.time()\n",
    "    \n",
    "    X_sol_tr = np.zeros([N+1,2])\n",
    "    X_sol_tr[:,0] = sol_tr.value(Q)\n",
    "    X_sol_tr[:,1] = sol_tr.value(V)\n",
    "    return X_sol_tr, sol_tr.value(U), t1-t0"
   ]
  },
  {
   "cell_type": "code",
   "execution_count": null,
   "metadata": {},
   "outputs": [],
   "source": [
    "T_test = 20\n",
    "N_test = 30\n",
    "X_sol_HS_mod, U_sol_HS_mod, _ = pend_HS_mod(q0 = 2, T = T_test, N = N_test)"
   ]
  },
  {
   "cell_type": "code",
   "execution_count": null,
   "metadata": {},
   "outputs": [],
   "source": [
    "plot_results(X_sol_HS_mod, U_sol_HS_mod, T_test, 0, N_test)\n",
    "plt.title('Hermite-Simpson modificado')"
   ]
  },
  {
   "cell_type": "code",
   "execution_count": null,
   "metadata": {},
   "outputs": [],
   "source": [
    "def new_trap_interp_q(q, q_n, v, u, u_n, tau, h):\n",
    "    res = q + v * tau + 1/2 * F1d(q,u) * tau**2 + 1/(6*h) * tau**3 * (F1d(q_n,u_n) - F1d(q,u))\n",
    "    return res\n",
    "def trap_interp_q(q, v, v_n, tau, h):\n",
    "    res = q + v * tau + 1/(2*h) * tau**2 * (v_n - v)\n",
    "    return res\n",
    "def new_trap_interp_v(q, q_n, v, u, u_n, tau, h):\n",
    "    res = v + tau * F1d(q,u) + tau**2 / (2*h) * (F1d(q_n,u_n) - F1d(q,u))\n",
    "    return res\n",
    "def hs_interp_v(q, q_n, q_c, v, v_n, v_c, u, u_n, u_c, tau, h):\n",
    "    f = F1d(q,u)\n",
    "    f_c = F1d(q_c,u_c)\n",
    "    f_n = F1d(q_n,u_n)\n",
    "    res = v + f*tau + 1/2 * (-3*f + 4*f_c - f_n)*tau**2/h + 1/3 *(2*f - 4*f_c + 2*f_n)*tau**3/(h**2)\n",
    "    return res\n",
    "def hs_interp_q(q, q_n, q_c, v, v_n, v_c, u, u_n, u_c, tau, h):\n",
    "    res = q + v*tau + 1/2 * (-3*v + 4*v_c - v_n)*tau**2/h + 1/3 *(2*v - 4*v_c + 2*v_n)*tau**3/(h**2)\n",
    "    return res\n",
    "def hs_midpoint(q, q_n, v, v_n, u, u_n, tau, h):\n",
    "    f = F1d(q,u)\n",
    "    f_n = F1d(q_n,u_n)\n",
    "    v_c = (v + v_n)/2 + h/8*(f - f_n)\n",
    "    q_c = (q + q_n)/2 + h/8*(v - v_n)\n",
    "    return q_c, v_c\n",
    "    return res\n",
    "def hs_mod_interp_q(q, q_n, q_c, v, v_n, v_c, u, u_n, u_c, tau, h):\n",
    "    f = F1d(q,u)\n",
    "    f_c = F1d(q_c,u_c)\n",
    "    f_n = F1d(q_n,u_n)\n",
    "    res = q + v*tau + 1/2 * f * tau**2 + 1/6 * (-3*f + 4*f_c - f_n)*tau**3/h \n",
    "    res = res + 1/12 *(2*f - 4*f_c + 2*f_n)*tau**4/(h**2)\n",
    "    return res\n",
    "def hs_mod_midpoint(q, q_n, v, v_n, u, u_n, tau, h):\n",
    "    f = F1d(q,u)\n",
    "    f_n = F1d(q_n,u_n)\n",
    "    v_c = (v + v_n)/2 + h/8*(f - f_n)\n",
    "    q_c = (13*q + 3*q_n + 5*v*h)/16 + h**2/96 * (4*f - f_n)\n",
    "    return q_c, v_c\n",
    "def newpoint(Q, V, U, h, t, scheme):\n",
    "    n = int(t//h)\n",
    "    tau = t%h\n",
    "    #print(f't = {t} , tau = {tau} , n = {n} , h = {h}')\n",
    "    if abs(tau) < h*Q.size*1e-10:\n",
    "        q = Q[n]\n",
    "        v = V[n]\n",
    "    else:\n",
    "        if scheme == 'mod':\n",
    "            q = new_trap_interp_q(Q[n], Q[n+1], V[n], U[n], U[n+1], tau, h)\n",
    "            v = new_trap_interp_v(Q[n], Q[n+1], V[n], U[n], U[n+1], tau, h)\n",
    "        elif scheme == 'trapz':\n",
    "            q = trap_interp_q(Q[n], V[n], V[n+1], tau, h)\n",
    "            v = new_trap_interp_v(Q[n], Q[n+1], V[n], U[n], U[n+1], tau, h)\n",
    "        elif scheme == 'hs':\n",
    "            q_c, v_c = hs_midpoint(Q[n], Q[n+1], V[n], V[n+1], U[n], U[n+1], tau, h)\n",
    "            u_c = (U[n] + U[n+1])/2\n",
    "            q = hs_interp_q(Q[n], Q[n+1], q_c, V[n], V[n+1], v_c, U[n], U[n+1], u_c, tau, h)\n",
    "            v = hs_interp_v(Q[n], Q[n+1], q_c, V[n], V[n+1], v_c, U[n], U[n+1], u_c, tau, h)\n",
    "        elif scheme == 'hsmod':\n",
    "            q_c, v_c = hs_mod_midpoint(Q[n], Q[n+1], V[n], V[n+1], U[n], U[n+1], tau, h)\n",
    "            u_c = (U[n] + U[n+1])/2\n",
    "            q = hs_mod_interp_q(Q[n], Q[n+1], q_c, V[n], V[n+1], v_c, U[n], U[n+1], u_c, tau, h)\n",
    "            v = hs_interp_v(Q[n], Q[n+1], q_c, V[n], V[n+1], v_c, U[n], U[n+1], u_c, tau, h)\n",
    "        else:\n",
    "            raise NameError(f'scheme {scheme} not recognized')\n",
    "    return q,v\n",
    "def newtrap_interpolated_array(Q, V, U, h, t_array, scheme = 'mod'):\n",
    "    N = t_array.size\n",
    "    new_Q = np.zeros(N)\n",
    "    new_V = np.zeros(N)\n",
    "    if Q.size != U.size:\n",
    "        U = np.append(U, U[-1])\n",
    "    old_t_array = np.linspace(0, (Q.size-1)*h, Q.size)\n",
    "    #print(Q.size, U.size, old_t_array.size, Q, U, old_t_array)\n",
    "    new_U = np.interp(t_array, old_t_array, U)\n",
    "    if scheme == 'hermite':\n",
    "        q_interp = hermite(old_t_array, Q, V)\n",
    "        new_Q = q_interp(t_array)\n",
    "        A = U-np.sin(Q)\n",
    "        v_interp = hermite(old_t_array, V, A)\n",
    "        new_V = v_interp(t_array)\n",
    "    else:\n",
    "        for ii in range(N):\n",
    "            new_Q[ii], new_V[ii] = newpoint(Q, V, U, h, t_array[ii], scheme)\n",
    "    return new_Q, new_V, new_U"
   ]
  },
  {
   "cell_type": "code",
   "execution_count": null,
   "metadata": {},
   "outputs": [],
   "source": [
    "T_test = 20\n",
    "N_test = 10\n",
    "X_sol_HS, U_sol_HS, _ = pend_HS(q0 = 2, T = T_test, N = N_test)"
   ]
  },
  {
   "cell_type": "code",
   "execution_count": null,
   "metadata": {},
   "outputs": [],
   "source": [
    "N_interp = 400\n",
    "t_array_interp = np.linspace(0, 20, N_interp)\n",
    "new_Q, new_V, new_U = newtrap_interpolated_array(X_sol_HS[:,0], X_sol_HS[:,1], U_sol_HS,\n",
    "                                                 T_test/N_test, t_array_interp, 'hs')\n",
    "X_interp = np.zeros([N_interp,2])\n",
    "X_interp[:,0] = new_Q\n",
    "X_interp[:,1] = new_V\n",
    "plot_results(X_interp, new_U[:-1], t_array_interp[-1], max_par, N_interp-1, figsize = [20,15])\n",
    "plt.plot(np.linspace(0, T_test, N_test+1), X_sol_HS[:,0], 'k.')\n",
    "plt.plot(np.linspace(0, T_test, N_test+1), X_sol_HS[:,1], 'k.')"
   ]
  },
  {
   "cell_type": "code",
   "execution_count": null,
   "metadata": {},
   "outputs": [],
   "source": [
    "T_test = 20\n",
    "N_test = 10\n",
    "X_sol_HS_mod, U_sol_HS_mod, _ = pend_HS_mod(q0 = 2, T = T_test, N = N_test)"
   ]
  },
  {
   "cell_type": "code",
   "execution_count": null,
   "metadata": {},
   "outputs": [],
   "source": [
    "N_interp = 400\n",
    "t_array_interp = np.linspace(0, 20, N_interp)\n",
    "new_Q, new_V, new_U = newtrap_interpolated_array(X_sol_HS_mod[:,0], X_sol_HS_mod[:,1], U_sol_HS_mod,\n",
    "                                                 T_test/N_test, t_array_interp, 'hsmod')\n",
    "X_interp = np.zeros([N_interp,2])\n",
    "X_interp[:,0] = new_Q\n",
    "X_interp[:,1] = new_V\n",
    "plot_results(X_interp, new_U[:-1], t_array_interp[-1], max_par, N_interp-1, figsize = [20,15])\n",
    "plt.plot(np.linspace(0, T_test, N_test+1), X_sol_HS_mod[:,0], 'k.')\n",
    "plt.plot(np.linspace(0, T_test, N_test+1), X_sol_HS_mod[:,1], 'k.')"
   ]
  },
  {
   "cell_type": "code",
   "execution_count": null,
   "metadata": {
    "scrolled": true
   },
   "outputs": [],
   "source": [
    "timescales = [0.2, 0.5, 1, 2, 5, 7, 10, 25, 50, 70, 80, 90, 100, 120, 150]\n",
    "\n",
    "eqm_hs = []\n",
    "eqm_hs_mod = []\n",
    "eqm_rk4 = []\n",
    "\n",
    "dt_hs = []\n",
    "dt_hs_mod = []\n",
    "dt_rk4 = []\n",
    "\n",
    "N = 100\n",
    "q0 = 2\n",
    "plots = False\n",
    "for T in timescales:\n",
    "    X_sol_hs_mod, _ , dt_hs_mod_i = pend_HS_mod(q0 = q0, T = T, N = N)\n",
    "    X_sol_hs, _ , dt_hs_i = pend_HS(q0 = q0, T = T, N = N)\n",
    "    X_sol_rk4, _ , dt_rk4_i = pend_RK4(q0 = q0, T = T, N = N)\n",
    "    Q_exact = exact_pendulum(np.linspace(0, T, N+1), q0)\n",
    "    \n",
    "    eqm_hs.append(np.mean((Q_exact - X_sol_hs[:,0])**2))\n",
    "    eqm_hs_mod.append(np.mean((Q_exact - X_sol_hs_mod[:,0])**2))\n",
    "    eqm_rk4.append(np.mean((Q_exact - X_sol_rk4[:,0])**2))\n",
    "    \n",
    "    dt_hs.append(dt_hs_i)\n",
    "    dt_hs_mod.append(dt_hs_mod_i)\n",
    "    dt_rk4.append(dt_rk4_i)\n",
    "    \n",
    "    if plots:\n",
    "        plot_comparison(np.linspace(0,T,N+1),\n",
    "                   Q_exact,\n",
    "                   X_sol_hs[:,0],\n",
    "                   X_sol_hs_mod[:,0],\n",
    "                   X_sol_rk4[:,0])\n"
   ]
  },
  {
   "cell_type": "code",
   "execution_count": null,
   "metadata": {},
   "outputs": [],
   "source": [
    "plt.figure(figsize=[15,10])\n",
    "h_scales = np.array(timescales)/N\n",
    "plt.plot(h_scales, eqm_hs, label = 'normal Hermite Simpson')\n",
    "plt.plot(h_scales, eqm_hs_mod, label = 'modified Hermite Simpson')\n",
    "plt.plot(h_scales, eqm_rk4, label = 'RK4')\n",
    "plt.vlines(h_scales, np.min(eqm_rk4)*0.9, np.max(eqm_trapz)*1.1, 'k', 'dotted')\n",
    "plt.hlines(4, min(h_scales), max(h_scales), 'k', 'dotted')\n",
    "plt.legend()\n",
    "plt.grid()\n",
    "plt.yscale('log')\n",
    "plt.xscale('log')\n",
    "plt.xlabel('h')\n",
    "plt.ylabel('Error cuadrático medio')"
   ]
  },
  {
   "cell_type": "code",
   "execution_count": null,
   "metadata": {},
   "outputs": [],
   "source": [
    "plt.figure(figsize=[15,10])\n",
    "oldtimescales = [0.2, 0.5, 0.6, 0.7, 1, 2, 5, 10, 25, 50, 70, 80, 90, 100]\n",
    "oldh_scales = np.array(oldtimescales)/N\n",
    "h_scales = np.array(timescales)/N\n",
    "plt.plot(h_scales, dt_hs, label = 'normal Hermite Simpson')\n",
    "plt.plot(h_scales, dt_hs_mod, label = 'modified Hermite Simpson')\n",
    "plt.plot(oldh_scales, dt_mod[1:], label = 'modified trapezoid')\n",
    "plt.plot(h_scales, dt_rk4, label = 'RK4')\n",
    "plt.vlines(h_scales, np.min(dt_rk4)*0.9, np.max(dt_hs_mod)*1.1, 'k', 'dotted')\n",
    "plt.legend()\n",
    "plt.grid()\n",
    "plt.yscale('log')\n",
    "plt.xscale('log')\n",
    "plt.xlabel('h')\n",
    "plt.ylabel('Tiempo de proceso (s)')"
   ]
  },
  {
   "cell_type": "markdown",
   "metadata": {},
   "source": [
    "### Error de interpolaciones"
   ]
  },
  {
   "cell_type": "code",
   "execution_count": null,
   "metadata": {},
   "outputs": [],
   "source": [
    "timescales_int = [0.1, 0.2, 0.5, 1, 2, 5, 7, 10, 12, 14, 15, 17, 20, 22, 25]\n",
    "\n",
    "eqm_hs_int = []\n",
    "eqm_hs_mod_int = []\n",
    "eqm_rk4_int = []\n",
    "\n",
    "dt_hs_int = []\n",
    "dt_hs_mod_int = []\n",
    "dt_rk4_int = []\n",
    "\n",
    "err_trans_hs = []\n",
    "err_trans_hs_mod = []\n",
    "err_trans_rk4 = []\n",
    "\n",
    "N = 15\n",
    "q0 = 2\n",
    "N_interp = 1000\n",
    "plots = False\n",
    "\n",
    "for T in timescales_int:\n",
    "    \n",
    "    t_array_interp = np.linspace(0, T, N_interp)\n",
    "    h = t_array_interp[1]-t_array_interp[0]\n",
    "    \n",
    "    X_sol_hs_mod, U_sol_hs_mod , dt_hs_i = pend_HS_mod(q0 = q0, T = T, N = N)\n",
    "    Q_hs_mod, V_hs_mod, U_hs_mod = newtrap_interpolated_array(X_sol_hs_mod[:,0], X_sol_hs_mod[:,1], U_sol_hs_mod,\n",
    "                                                     T/N, t_array_interp, 'hsmod')\n",
    "    #print(U_sol_hs_mod)\n",
    "    X_sol_hs, U_sol_hs, dt_hs_mod_i = pend_HS(q0 = q0, T = T, N = N)\n",
    "    Q_hs, V_hs, U_hs = newtrap_interpolated_array(X_sol_hs[:,0], X_sol_hs[:,1], U_sol_hs,\n",
    "                                                     T/N, t_array_interp, 'hs')\n",
    "    \n",
    "    X_sol_rk4, U_sol_rk4 , dt_rk4_i = pend_RK4(q0 = 2, T = T, N = N)\n",
    "    Q_rk4, V_rk4, U_rk4 = newtrap_interpolated_array(X_sol_rk4[:,0], X_sol_rk4[:,1], U_sol_rk4,\n",
    "                                                     T/N, t_array_interp, 'hermite')\n",
    "\n",
    "\n",
    "    Q_exact = exact_pendulum(np.linspace(0, T, N_interp), q0)\n",
    "    \n",
    "    eqm_hs_int.append(np.mean((Q_exact - Q_hs)**2))\n",
    "    eqm_hs_mod_int.append(np.mean((Q_exact - Q_hs_mod)**2))\n",
    "    eqm_rk4_int.append(np.mean((Q_exact - Q_rk4)**2))\n",
    "    \n",
    "    dt_hs_int.append(dt_hs_i)\n",
    "    dt_hs_mod_int.append(dt_hs_mod_i)\n",
    "    dt_rk4_int.append(dt_rk4_i)\n",
    "    \n",
    "    err_trans_hs.append(error_transcr_medio(Q_hs, V_hs, U_hs, h))\n",
    "    err_trans_hs_mod.append(error_transcr_medio(Q_hs_mod, V_hs_mod, U_hs_mod, h))\n",
    "    err_trans_rk4.append(error_transcr_medio(Q_rk4, V_rk4, U_rk4, h))\n",
    "    \n",
    "    print(f' T = {T}, N = {N}, err = {error_transcr_medio(Q_hs_mod, V_hs_mod, U_hs_mod, h)}')\n",
    "    if plots:\n",
    "        plot_comparison(np.linspace(0,T,N_interp),\n",
    "                   Q_exact,\n",
    "                   Q_hs,\n",
    "                   Q_hs_mod,\n",
    "                   Q_rk4)\n",
    "        \n",
    "        plt.plot(np.linspace(0, T, N+1), X_sol_hs[:,0], 'k.')\n",
    "        plt.plot(np.linspace(0, T, N+1), X_sol_hs_mod[:,0], 'k.')\n",
    "        plt.plot(np.linspace(0, T, N+1), X_sol_rk4[:,0], 'k.')\n"
   ]
  },
  {
   "cell_type": "code",
   "execution_count": null,
   "metadata": {},
   "outputs": [],
   "source": [
    "plt.figure(figsize=[15,10])\n",
    "h_scales = np.array(timescales_int)/N\n",
    "plt.plot(h_scales, eqm_hs_int, label = 'Hermite Simpson')\n",
    "plt.plot(h_scales, eqm_hs_mod_int, label = 'modified Hermite Simpson')\n",
    "plt.plot(h_scales, eqm_rk4_int, label = 'RK4')\n",
    "plt.vlines(h_scales, np.min(eqm_hs_mod_int)*0.9, np.max(eqm_rk4_int)*1.1, 'k', 'dotted')\n",
    "plt.hlines(4, min(h_scales), max(h_scales), 'k', 'dotted')\n",
    "plt.legend()\n",
    "plt.grid()\n",
    "plt.yscale('log')\n",
    "plt.xscale('log')\n",
    "plt.xlabel('h')\n",
    "plt.ylabel('Error cuadrático medio')"
   ]
  },
  {
   "cell_type": "code",
   "execution_count": null,
   "metadata": {},
   "outputs": [],
   "source": [
    "plt.figure(figsize=[15,10])\n",
    "h_scales = np.array(timescales_int)/N\n",
    "plt.plot(h_scales, err_trans_hs, label = 'Hermite Simpson')\n",
    "plt.plot(h_scales, err_trans_hs_mod, label = 'modified Hermite Simpson')\n",
    "plt.plot(h_scales, err_trans_rk4, label = 'RK4')\n",
    "plt.vlines(h_scales, np.min(err_trans_rk4)*0.9, np.max(err_trans_trapz)*1.1, 'k', 'dotted')\n",
    "#plt.hlines(4, min(h_scales), max(h_scales), 'k', 'dotted')\n",
    "plt.legend()\n",
    "plt.grid()\n",
    "plt.yscale('log')\n",
    "plt.xscale('log')\n",
    "plt.xlabel('h')\n",
    "plt.ylabel('Error de transcripción medio')"
   ]
  },
  {
   "cell_type": "code",
   "execution_count": null,
   "metadata": {},
   "outputs": [],
   "source": [
    "plt.figure(figsize=[15,10])\n",
    "h_scales = np.array(timescales_int)/N\n",
    "plt.plot(h_scales, dt_hs_int, label = 'normal Hermite Simpson')\n",
    "plt.plot(h_scales, dt_hs_mod_int, label = 'modified Hermite Simpson')\n",
    "plt.plot(h_scales, dt_mod_int, label = 'modified trapezoid')\n",
    "plt.plot(h_scales, dt_rk4_int, label = 'RK4')\n",
    "plt.vlines(h_scales, np.min(dt_rk4_int)*0.9, np.max(dt_mod_int)*1.1, 'k', 'dotted')\n",
    "plt.legend()\n",
    "plt.grid()\n",
    "plt.yscale('log')\n",
    "plt.xscale('log')\n",
    "plt.xlabel('h')\n",
    "plt.ylabel('Tiempo de proceso (s)')"
   ]
  },
  {
   "cell_type": "code",
   "execution_count": null,
   "metadata": {},
   "outputs": [],
   "source": [
    "N=15"
   ]
  },
  {
   "cell_type": "code",
   "execution_count": null,
   "metadata": {
    "scrolled": true
   },
   "outputs": [],
   "source": [
    "opti = Opti()\n",
    "opti.solver('ipopt')\n",
    "\n",
    "Q = opti.variable(N+1)\n",
    "V = opti.variable(N+1)\n",
    "U = opti.variable(N+1)\n",
    "T = opti.parameter()\n",
    "u_m = opti.parameter()\n",
    "#t_m = opti.parameter()\n",
    "\n",
    "cost = sum1(cos(Q)) #**2\n",
    "#cost = T\n",
    "#cost = -sum1(X[:,0])\n",
    "opti.minimize(cost)\n",
    "\n",
    "opti.subject_to(Q[0] == 0)\n",
    "opti.subject_to(V[0] == 0)\n",
    "opti.subject_to(V[-1] == 0)\n",
    "\n",
    "\n",
    "for ii in range(N):\n",
    "    opti.subject_to(Q[ii+1] == new_q_HS(Q[ii], Q[ii+1], V[ii], V[ii+1], U[ii], U[ii+1], T/N))\n",
    "    opti.subject_to(V[ii+1] == new_v_HS(Q[ii], Q[ii+1], V[ii], V[ii+1], U[ii], U[ii+1], T/N))\n",
    "    opti.subject_to(opti.bounded(-u_m,U[ii],u_m))\n",
    "    \n",
    "opti.set_initial(Q, np.linspace(0, pi, N+1))\n",
    "opti.set_initial(V, pi/N)\n",
    "#opti.set_initial(T, 50)\n",
    "opti.set_value(T, 25)\n",
    "max_par = 0.5\n",
    "opti.set_value(u_m, max_par)\n",
    "\n",
    "sol = opti.solve()\n",
    "\n",
    "spar_hs = sol.value(jacobian(opti.g,opti.x)).toarray()"
   ]
  },
  {
   "cell_type": "code",
   "execution_count": null,
   "metadata": {
    "scrolled": true
   },
   "outputs": [],
   "source": [
    "opti = Opti()\n",
    "opti.solver('ipopt')\n",
    "\n",
    "Q = opti.variable(N+1)\n",
    "V = opti.variable(N+1)\n",
    "U = opti.variable(N+1)\n",
    "T = opti.parameter()\n",
    "u_m = opti.parameter()\n",
    "#t_m = opti.parameter()\n",
    "\n",
    "cost = sum1(cos(Q)) #**2\n",
    "#cost = T\n",
    "#cost = -sum1(X[:,0])\n",
    "opti.minimize(cost)\n",
    "\n",
    "opti.subject_to(Q[0] == 0)\n",
    "opti.subject_to(V[0] == 0)\n",
    "opti.subject_to(V[-1] == 0)\n",
    "\n",
    "\n",
    "for ii in range(N):\n",
    "    opti.subject_to(Q[ii+1] == new_q_HS_mod(Q[ii], Q[ii+1], V[ii], V[ii+1], U[ii], U[ii+1], T/N))\n",
    "    opti.subject_to(V[ii+1] == new_v_HS_mod(Q[ii], Q[ii+1], V[ii], V[ii+1], U[ii], U[ii+1], T/N))\n",
    "    opti.subject_to(opti.bounded(-u_m,U[ii],u_m))\n",
    "    \n",
    "opti.set_initial(Q, np.linspace(0, pi, N+1))\n",
    "opti.set_initial(V, pi/N)\n",
    "#opti.set_initial(T, 50)\n",
    "opti.set_value(T, 25)\n",
    "max_par = 0.5\n",
    "opti.set_value(u_m, max_par)\n",
    "\n",
    "sol = opti.solve()\n",
    "\n",
    "spar_hs_mod = sol.value(jacobian(opti.g,opti.x)).toarray()"
   ]
  },
  {
   "cell_type": "code",
   "execution_count": null,
   "metadata": {
    "scrolled": false
   },
   "outputs": [],
   "source": [
    "plt.spy(spar_hs_mod)\n",
    "plt.title('modified Hermite Simpson\\n')"
   ]
  },
  {
   "cell_type": "code",
   "execution_count": null,
   "metadata": {
    "scrolled": false
   },
   "outputs": [],
   "source": [
    "plt.spy(spar_hs)\n",
    "plt.title('Normal Hermite Simpson\\n')"
   ]
  },
  {
   "cell_type": "markdown",
   "metadata": {},
   "source": [
    "### Comparación"
   ]
  },
  {
   "cell_type": "code",
   "execution_count": null,
   "metadata": {
    "scrolled": true
   },
   "outputs": [],
   "source": [
    "T_test = 20\n",
    "N_test = 12\n",
    "X_sol_HS_mod, U_sol_HS_mod, _ = pend_HS_mod(q0 = 2, T = T_test, N = N_test)\n",
    "X_sol_HS, U_sol_HS, _ = pend_HS(q0 = 2, T = T_test, N = N_test)\n",
    "X_sol_rk4, U_sol_rk4, _ = pend_RK4(q0 = 2, T = T_test, N = N_test)"
   ]
  },
  {
   "cell_type": "code",
   "execution_count": null,
   "metadata": {},
   "outputs": [],
   "source": [
    "N_interp = 500\n",
    "t_array_interp = np.linspace(0, T_test, N_interp)\n",
    "\n",
    "new_Q, new_V, new_U = newtrap_interpolated_array(X_sol_HS_mod[:,0], X_sol_HS_mod[:,1], U_sol_HS_mod,\n",
    "                                                 T_test/N_test, t_array_interp, 'hsmod')\n",
    "X_interp_HS_mod = np.zeros([N_interp,2])\n",
    "X_interp_HS_mod[:,0] = new_Q\n",
    "X_interp_HS_mod[:,1] = new_V\n",
    "\n",
    "new_Q, new_V, new_U = newtrap_interpolated_array(X_sol_HS[:,0], X_sol_HS[:,1], U_sol_HS,\n",
    "                                                 T_test/N_test, t_array_interp, 'hs')\n",
    "X_interp_HS = np.zeros([N_interp,2])\n",
    "X_interp_HS[:,0] = new_Q\n",
    "X_interp_HS[:,1] = new_V\n",
    "\n",
    "new_Q, new_V, new_U = newtrap_interpolated_array(X_sol_rk4[:,0], X_sol_rk4[:,1], U_sol_rk4,\n",
    "                                                 T_test/N_test, t_array_interp, 'hermite')\n",
    "X_interp_rk4 = np.zeros([N_interp,2])\n",
    "X_interp_rk4[:,0] = new_Q\n",
    "X_interp_rk4[:,1] = new_V"
   ]
  },
  {
   "cell_type": "code",
   "execution_count": null,
   "metadata": {},
   "outputs": [],
   "source": [
    "plt.figure(figsize=[15,10])\n",
    "plt.plot(t_array_interp, exact_pendulum(t_array_interp, 2), 'r', label = 'exact')\n",
    "plt.plot(t_array_interp, X_interp_HS_mod[:,0], label = 'modified HS')\n",
    "plt.plot(t_array_interp, X_interp_HS[:,0], label = 'normal HS')\n",
    "plt.plot(t_array_interp, X_interp_rk4[:,0],  label = 'RK4')\n",
    "plt.plot(np.linspace(0, T_test, N_test+1), X_sol_HS[:,0], 'k.')\n",
    "plt.plot(np.linspace(0, T_test, N_test+1), X_sol_HS_mod[:,0], 'k.')\n",
    "plt.plot(np.linspace(0, T_test, N_test+1), exact_pendulum(np.linspace(0, T_test, N_test+1), 2), 'k.')\n",
    "plt.plot(np.linspace(0, T_test, N_test+1), X_sol_rk4[:,0], 'k.')\n",
    "plt.legend()\n",
    "plt.grid()"
   ]
  },
  {
   "cell_type": "code",
   "execution_count": null,
   "metadata": {},
   "outputs": [],
   "source": []
  },
  {
   "cell_type": "code",
   "execution_count": null,
   "metadata": {},
   "outputs": [],
   "source": []
  },
  {
   "cell_type": "code",
   "execution_count": null,
   "metadata": {},
   "outputs": [],
   "source": []
  },
  {
   "cell_type": "code",
   "execution_count": null,
   "metadata": {},
   "outputs": [],
   "source": []
  },
  {
   "cell_type": "code",
   "execution_count": null,
   "metadata": {},
   "outputs": [],
   "source": []
  },
  {
   "cell_type": "code",
   "execution_count": null,
   "metadata": {},
   "outputs": [],
   "source": []
  },
  {
   "cell_type": "code",
   "execution_count": null,
   "metadata": {},
   "outputs": [],
   "source": []
  },
  {
   "cell_type": "code",
   "execution_count": null,
   "metadata": {},
   "outputs": [],
   "source": []
  },
  {
   "cell_type": "code",
   "execution_count": null,
   "metadata": {},
   "outputs": [],
   "source": []
  },
  {
   "cell_type": "code",
   "execution_count": null,
   "metadata": {},
   "outputs": [],
   "source": []
  },
  {
   "cell_type": "code",
   "execution_count": null,
   "metadata": {},
   "outputs": [],
   "source": []
  },
  {
   "cell_type": "code",
   "execution_count": null,
   "metadata": {},
   "outputs": [],
   "source": []
  },
  {
   "cell_type": "code",
   "execution_count": null,
   "metadata": {},
   "outputs": [],
   "source": []
  },
  {
   "cell_type": "code",
   "execution_count": null,
   "metadata": {},
   "outputs": [],
   "source": []
  }
 ],
 "metadata": {
  "kernelspec": {
   "display_name": "Python 3 (ipykernel)",
   "language": "python",
   "name": "python3"
  },
  "language_info": {
   "codemirror_mode": {
    "name": "ipython",
    "version": 3
   },
   "file_extension": ".py",
   "mimetype": "text/x-python",
   "name": "python",
   "nbconvert_exporter": "python",
   "pygments_lexer": "ipython3",
   "version": "3.9.5"
  }
 },
 "nbformat": 4,
 "nbformat_minor": 2
}
