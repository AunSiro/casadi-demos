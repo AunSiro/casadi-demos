{
 "cells": [
  {
   "cell_type": "code",
   "execution_count": null,
   "id": "b1f6cd9b",
   "metadata": {},
   "outputs": [],
   "source": [
    "import numpy as np\n",
    "import matplotlib.pyplot as plt"
   ]
  },
  {
   "cell_type": "markdown",
   "id": "95b8fec6",
   "metadata": {},
   "source": [
    "from sympy import (symbols, simplify)\n",
    "from sympy.physics.mechanics import dynamicsymbols, init_vprinting\n",
    "from sympy.physics.mechanics import Lagrangian, ReferenceFrame, Point, Particle,inertia, RigidBody, angular_momentum"
   ]
  },
  {
   "cell_type": "markdown",
   "id": "40f091b0",
   "metadata": {},
   "source": [
    "from optibot.symbolic import lagrange, diff_to_symb, SimpLagrangesMethod\n",
    "from optibot.numpy import unpack"
   ]
  },
  {
   "cell_type": "markdown",
   "id": "8867d17a",
   "metadata": {},
   "source": [
    "init_vprinting()"
   ]
  },
  {
   "cell_type": "markdown",
   "id": "a299c28c",
   "metadata": {},
   "source": [
    "### Robotics Toolbox Model"
   ]
  },
  {
   "cell_type": "code",
   "execution_count": null,
   "id": "08f198a6",
   "metadata": {},
   "outputs": [],
   "source": [
    "from roboticstoolbox.models.DH import Panda, Puma560"
   ]
  },
  {
   "cell_type": "code",
   "execution_count": null,
   "id": "9445aef0",
   "metadata": {},
   "outputs": [],
   "source": [
    "panda = Panda()"
   ]
  },
  {
   "cell_type": "code",
   "execution_count": null,
   "id": "9c682732",
   "metadata": {},
   "outputs": [],
   "source": [
    "panda"
   ]
  },
  {
   "cell_type": "code",
   "execution_count": null,
   "id": "3cf19f79",
   "metadata": {},
   "outputs": [],
   "source": [
    "def tau_from_state(q, qd, qdd):\n",
    "    panda = Panda()\n",
    "    M = panda.inertia(q)\n",
    "    C = panda.coriolis(q, qd)\n",
    "    G = panda.gravload(q)\n",
    "    tau = M@qdd + C@qd + G\n",
    "    return tau"
   ]
  },
  {
   "cell_type": "code",
   "execution_count": null,
   "id": "7d31b9fa",
   "metadata": {},
   "outputs": [],
   "source": [
    "def randq():\n",
    "    panda = Panda()\n",
    "    qlim = np.zeros([7,2])\n",
    "    for ii, link in enumerate(panda.links):\n",
    "        qlim[ii] = link.qlim\n",
    "    qlim\n",
    "    r = np.random.random_sample(7)\n",
    "    d = qlim[:,1]-qlim[:,0]\n",
    "    c = qlim[:,0]\n",
    "    return c + d*r\n",
    "    "
   ]
  },
  {
   "cell_type": "code",
   "execution_count": null,
   "id": "9f583996",
   "metadata": {},
   "outputs": [],
   "source": [
    "def randpath(N):\n",
    "    path = np.zeros([N,7])\n",
    "    for ii in range(N):\n",
    "        path[ii,:] = randq()\n",
    "    return np.round(path, 3)"
   ]
  },
  {
   "cell_type": "code",
   "execution_count": null,
   "id": "a36708d5",
   "metadata": {},
   "outputs": [],
   "source": [
    "def rand_traj(N):\n",
    "    traj = np.zeros([N, 15])\n",
    "    traj[:,:7] = randpath(N)\n",
    "    traj[1:-1, 7:14] = np.round((traj[2:,:7] - traj[:-2,:7])/2, 3)\n",
    "    traj[:,-1] = np.arange(N)\n",
    "    return traj"
   ]
  },
  {
   "cell_type": "code",
   "execution_count": null,
   "id": "2a3b28f2",
   "metadata": {},
   "outputs": [],
   "source": [
    "from optibot.schemes import extend_array"
   ]
  },
  {
   "cell_type": "code",
   "execution_count": null,
   "id": "60fde993",
   "metadata": {},
   "outputs": [],
   "source": [
    "def savetraj(N, fname = 'ejtraj.txt'):\n",
    "    traj = extend_array(rand_traj(N))\n",
    "    traj[-1, -1] += 0.2\n",
    "    np.savetxt(fname, traj, '%6.3f')\n",
    "    return traj\n",
    "\n",
    "def loadtraj(fname = 'ejtraj.txt'):\n",
    "    return np.loadtxt(fname)"
   ]
  },
  {
   "cell_type": "markdown",
   "id": "66890e03",
   "metadata": {},
   "source": [
    "### Generating, saving and loading a random trajectory"
   ]
  },
  {
   "cell_type": "code",
   "execution_count": null,
   "id": "9fbbe38e",
   "metadata": {},
   "outputs": [],
   "source": [
    "savetraj(7)\n",
    "ej_traj = loadtraj()"
   ]
  },
  {
   "cell_type": "code",
   "execution_count": null,
   "id": "8ded7b7d",
   "metadata": {},
   "outputs": [],
   "source": [
    "from scipy.interpolate import CubicHermiteSpline as hermite"
   ]
  },
  {
   "cell_type": "code",
   "execution_count": null,
   "id": "2539a5e6",
   "metadata": {},
   "outputs": [],
   "source": [
    "her_traj = hermite(ej_traj[:,-1], ej_traj[:, :7], ej_traj[:, 7:14])\n",
    "her_speed = her_traj.derivative()\n",
    "her_accel = her_speed.derivative()\n",
    "interp_f = [her_traj, her_speed, her_accel]"
   ]
  },
  {
   "cell_type": "code",
   "execution_count": null,
   "id": "552c8248",
   "metadata": {},
   "outputs": [],
   "source": [
    "plt.style.use('default')\n",
    "t_plot = np.linspace(0, ej_traj[-1, -1], 500)\n",
    "for ii, varname in enumerate(['q', 'q_dot']):\n",
    "    plt.figure(figsize=[12,8])\n",
    "    plt.title('ideal ' + varname)\n",
    "    plt.plot(ej_traj[:,-1], ej_traj[:, 7*ii: 7*(ii+1)], 'o')\n",
    "    plt.plot(t_plot, interp_f[ii](t_plot))\n",
    "    plt.grid()"
   ]
  },
  {
   "cell_type": "code",
   "execution_count": null,
   "id": "c6cc3b65",
   "metadata": {},
   "outputs": [],
   "source": [
    "interp_n = 500\n",
    "t_plot = np.linspace(0, ej_traj[-1, -1], interp_n)\n",
    "tau_arr = np.zeros([interp_n, 7])\n",
    "for ii in range(interp_n):\n",
    "    _t = t_plot[ii]\n",
    "    _q = her_traj(_t)\n",
    "    _qd = her_speed(_t)\n",
    "    _qdd = her_accel(_t)\n",
    "    _tau = tau_from_state(_q, _qd, _qdd)\n",
    "    tau_arr[ii,:] = _tau\n",
    "\n",
    "plt.figure(figsize=[12,8])\n",
    "plt.title('ideal torque')\n",
    "plt.plot(t_plot, tau_arr)\n",
    "plt.grid()"
   ]
  },
  {
   "cell_type": "code",
   "execution_count": null,
   "id": "6dc22ee6",
   "metadata": {},
   "outputs": [],
   "source": []
  },
  {
   "cell_type": "code",
   "execution_count": null,
   "id": "ba3f318b",
   "metadata": {},
   "outputs": [],
   "source": []
  }
 ],
 "metadata": {
  "kernelspec": {
   "display_name": "Python 3 (ipykernel)",
   "language": "python",
   "name": "python3"
  },
  "language_info": {
   "codemirror_mode": {
    "name": "ipython",
    "version": 3
   },
   "file_extension": ".py",
   "mimetype": "text/x-python",
   "name": "python",
   "nbconvert_exporter": "python",
   "pygments_lexer": "ipython3",
   "version": "3.9.5"
  }
 },
 "nbformat": 4,
 "nbformat_minor": 5
}
