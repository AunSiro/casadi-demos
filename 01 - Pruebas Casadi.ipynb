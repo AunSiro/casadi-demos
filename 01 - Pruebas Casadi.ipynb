{
 "cells": [
  {
   "cell_type": "code",
   "execution_count": null,
   "metadata": {},
   "outputs": [],
   "source": [
    "from casadi import *\n",
    "import matplotlib.pyplot as plt"
   ]
  },
  {
   "cell_type": "markdown",
   "metadata": {},
   "source": [
    "## Symbolic variables\n",
    "Casadi objects are MX and SX. They differ in their approach to matrix sparsity. MX and SX are always 2d matrices. They can be symbolic or numeric."
   ]
  },
  {
   "cell_type": "code",
   "execution_count": null,
   "metadata": {},
   "outputs": [],
   "source": [
    "x = MX.sym(\"x\")"
   ]
  },
  {
   "cell_type": "code",
   "execution_count": null,
   "metadata": {},
   "outputs": [],
   "source": [
    "x"
   ]
  },
  {
   "cell_type": "code",
   "execution_count": null,
   "metadata": {},
   "outputs": [],
   "source": [
    "x[0,0]"
   ]
  },
  {
   "cell_type": "code",
   "execution_count": null,
   "metadata": {},
   "outputs": [],
   "source": [
    "y = SX.sym('y',5)\n",
    "Z = SX.sym('Z',4,2)"
   ]
  },
  {
   "cell_type": "code",
   "execution_count": null,
   "metadata": {},
   "outputs": [],
   "source": [
    "y"
   ]
  },
  {
   "cell_type": "code",
   "execution_count": null,
   "metadata": {},
   "outputs": [],
   "source": [
    "y[0,0]"
   ]
  },
  {
   "cell_type": "code",
   "execution_count": null,
   "metadata": {},
   "outputs": [],
   "source": [
    "Z"
   ]
  },
  {
   "cell_type": "code",
   "execution_count": null,
   "metadata": {},
   "outputs": [],
   "source": [
    "SX.zeros(4,5)"
   ]
  },
  {
   "cell_type": "code",
   "execution_count": null,
   "metadata": {},
   "outputs": [],
   "source": [
    "SX(4,5)"
   ]
  },
  {
   "cell_type": "code",
   "execution_count": null,
   "metadata": {},
   "outputs": [],
   "source": [
    "SX.eye(4)"
   ]
  },
  {
   "cell_type": "code",
   "execution_count": null,
   "metadata": {},
   "outputs": [],
   "source": [
    "SX([[1,2],[3,4]])"
   ]
  },
  {
   "cell_type": "code",
   "execution_count": null,
   "metadata": {},
   "outputs": [],
   "source": [
    "x = SX.sym('x',2,2)\n",
    "y = SX.sym('y')\n",
    "f = 3*x + y\n",
    "print(f)\n",
    "print(f.shape)"
   ]
  },
  {
   "cell_type": "code",
   "execution_count": null,
   "metadata": {},
   "outputs": [],
   "source": [
    "print(x@x)"
   ]
  },
  {
   "cell_type": "code",
   "execution_count": null,
   "metadata": {},
   "outputs": [],
   "source": [
    "x = MX.sym('x',2,2)\n",
    "y = MX.sym('y')\n",
    "f = 3*x + y\n",
    "print(f)\n",
    "print(f.shape)"
   ]
  },
  {
   "cell_type": "code",
   "execution_count": null,
   "metadata": {},
   "outputs": [],
   "source": [
    "print(x@x)"
   ]
  },
  {
   "cell_type": "code",
   "execution_count": null,
   "metadata": {},
   "outputs": [],
   "source": [
    "print(SX.sym('x',Sparsity.lower(3)))"
   ]
  },
  {
   "cell_type": "code",
   "execution_count": null,
   "metadata": {},
   "outputs": [],
   "source": [
    "print(Sparsity.lower(3))"
   ]
  },
  {
   "cell_type": "code",
   "execution_count": null,
   "metadata": {},
   "outputs": [],
   "source": [
    "M = SX([[3,7],[4,5]])\n",
    "print(M[0,:], '\\n')\n",
    "\n",
    "M[0,:] = 1.342341413\n",
    "print(M)"
   ]
  },
  {
   "cell_type": "code",
   "execution_count": null,
   "metadata": {},
   "outputs": [],
   "source": [
    "A = MX.sym('A',3,3)\n",
    "b = MX.sym('b',3)\n",
    "print(solve(A,b))"
   ]
  },
  {
   "cell_type": "code",
   "execution_count": null,
   "metadata": {},
   "outputs": [],
   "source": [
    "A = SX.sym('A',3,2)\n",
    "x = SX.sym('x',2)\n",
    "print(A@x)"
   ]
  },
  {
   "cell_type": "code",
   "execution_count": null,
   "metadata": {},
   "outputs": [],
   "source": [
    "print(jacobian(A@x,x))"
   ]
  },
  {
   "cell_type": "markdown",
   "metadata": {},
   "source": [
    "### Derivadas"
   ]
  },
  {
   "cell_type": "code",
   "execution_count": null,
   "metadata": {},
   "outputs": [],
   "source": [
    "A = SX.sym('A',3,2)\n",
    "x = SX.sym('x',2)\n",
    "print(jacobian(A@x,x))"
   ]
  },
  {
   "cell_type": "code",
   "execution_count": null,
   "metadata": {},
   "outputs": [],
   "source": [
    "print(A@x)"
   ]
  },
  {
   "cell_type": "code",
   "execution_count": null,
   "metadata": {},
   "outputs": [],
   "source": [
    "print(dot(A,A))"
   ]
  },
  {
   "cell_type": "code",
   "execution_count": null,
   "metadata": {},
   "outputs": [],
   "source": [
    "print(gradient(dot(A,A),A))"
   ]
  },
  {
   "cell_type": "code",
   "execution_count": null,
   "metadata": {},
   "outputs": [],
   "source": [
    "print(dot(x,x))"
   ]
  },
  {
   "cell_type": "code",
   "execution_count": null,
   "metadata": {},
   "outputs": [],
   "source": [
    "print(gradient(dot(x,x),x))"
   ]
  },
  {
   "cell_type": "code",
   "execution_count": null,
   "metadata": {},
   "outputs": [],
   "source": [
    "[H,g] = hessian(dot(x,x),x)\n",
    "print('H:', H)"
   ]
  },
  {
   "cell_type": "code",
   "execution_count": null,
   "metadata": {},
   "outputs": [],
   "source": [
    "A = DM([[1,3],[4,7],[2,8]])\n",
    "x = SX.sym('x',2)\n",
    "v = SX.sym('v',2)\n",
    "f = mtimes(A,x)\n",
    "print(jtimes(f,x,v))"
   ]
  },
  {
   "cell_type": "code",
   "execution_count": null,
   "metadata": {},
   "outputs": [],
   "source": [
    "w = SX.sym('w',3)\n",
    "f = mtimes(A,x)\n",
    "print(jtimes(f,x,w,True))"
   ]
  },
  {
   "cell_type": "markdown",
   "metadata": {},
   "source": [
    "## Funciones"
   ]
  },
  {
   "cell_type": "code",
   "execution_count": null,
   "metadata": {},
   "outputs": [],
   "source": [
    "x = SX.sym('x',2)\n",
    "y = SX.sym('y')\n",
    "f = Function('f',[x,y],[x,sin(y)*x])\n",
    "print(f)"
   ]
  },
  {
   "cell_type": "code",
   "execution_count": null,
   "metadata": {},
   "outputs": [],
   "source": [
    "x = MX.sym('x',2)\n",
    "y = MX.sym('y')\n",
    "f = Function('f',[x,y],[x,sin(y)*x])\n",
    "print(f)"
   ]
  },
  {
   "cell_type": "code",
   "execution_count": null,
   "metadata": {},
   "outputs": [],
   "source": [
    "f = Function('f',[x,y], [x,sin(y)*x], ['x','y'],['r','q'])\n",
    "print(f)"
   ]
  },
  {
   "cell_type": "code",
   "execution_count": null,
   "metadata": {},
   "outputs": [],
   "source": [
    "r0, q0 = f(1.1,3.3)\n",
    "print('r0:',r0)\n",
    "print('q0:',q0)"
   ]
  },
  {
   "cell_type": "code",
   "execution_count": null,
   "metadata": {},
   "outputs": [],
   "source": [
    "res = f(x=1.1, y=3.3)\n",
    "print('res:', res)"
   ]
  },
  {
   "cell_type": "code",
   "execution_count": null,
   "metadata": {},
   "outputs": [],
   "source": [
    "arg = [1.1,3.3]\n",
    "res = f.call(arg)\n",
    "print('res:', res)\n",
    "arg = {'x':1.1,'y':3.3}\n",
    "res = f.call(arg)\n",
    "print('res:', res)"
   ]
  },
  {
   "cell_type": "markdown",
   "metadata": {},
   "source": [
    "## Nonlinear root finding"
   ]
  },
  {
   "cell_type": "code",
   "execution_count": null,
   "metadata": {},
   "outputs": [],
   "source": [
    "nz = 1\n",
    "nx = 1\n",
    "z = SX.sym('x',nz)\n",
    "x = SX.sym('x',nx)\n",
    "g0 = sin(x+z)\n",
    "g1 = cos(x-z)\n",
    "g = Function('g',[z,x],[g0,g1])\n",
    "G = rootfinder('G','newton',g)\n",
    "print(G)"
   ]
  },
  {
   "cell_type": "markdown",
   "metadata": {},
   "source": [
    "## Initial-value problems and sensitivity analysis"
   ]
  },
  {
   "cell_type": "code",
   "execution_count": null,
   "metadata": {},
   "outputs": [],
   "source": [
    "x = SX.sym('x'); z = SX.sym('z'); p = SX.sym('p')\n",
    "dae = {'x':x, 'z':z, 'p':p, 'ode':z+p, 'alg':z*cos(z)-x}\n",
    "F = integrator('F', 'idas', dae)\n",
    "print(F)"
   ]
  },
  {
   "cell_type": "code",
   "execution_count": null,
   "metadata": {},
   "outputs": [],
   "source": [
    "r = F(x0=0, z0=0, p=0.1)\n",
    "print(r['xf'])"
   ]
  },
  {
   "cell_type": "markdown",
   "metadata": {},
   "source": [
    "## Non Linear Programming"
   ]
  },
  {
   "cell_type": "code",
   "execution_count": null,
   "metadata": {},
   "outputs": [],
   "source": [
    "x = SX.sym('x'); y = SX.sym('y'); z = SX.sym('z')\n",
    "nlp = {'x':vertcat(x,y,z), 'f':x**2+100*z**2, 'g':z+(1-x)**2-y}\n",
    "S = nlpsol('S', 'ipopt', nlp)\n",
    "print(S)"
   ]
  },
  {
   "cell_type": "code",
   "execution_count": null,
   "metadata": {},
   "outputs": [],
   "source": [
    "r = S(x0=[2.5,3.0,0.75],\\\n",
    "      lbg=0, ubg=0)\n",
    "x_opt = r['x']\n",
    "print('x_opt: ', x_opt)"
   ]
  },
  {
   "cell_type": "markdown",
   "metadata": {},
   "source": [
    "## For-loop equivalents"
   ]
  },
  {
   "cell_type": "code",
   "execution_count": null,
   "metadata": {},
   "outputs": [],
   "source": [
    "N = 4\n",
    "X = MX.sym(\"X\",1,N)\n",
    "f = Function('f',[x,], [sin(x)*x], ['x',],['r',])\n",
    "\n",
    "print(f)\n",
    "\n",
    "ys = []\n",
    "for i in range(N):\n",
    "    ys.append(f(X[:,i]))\n",
    "\n",
    "Y = hcat(ys)\n",
    "F = Function('F',[X],[Y])\n",
    "print(F)"
   ]
  },
  {
   "cell_type": "code",
   "execution_count": null,
   "metadata": {},
   "outputs": [],
   "source": [
    "F = f.map(N)\n",
    "print(F)"
   ]
  },
  {
   "cell_type": "code",
   "execution_count": null,
   "metadata": {},
   "outputs": [],
   "source": [
    "F = f.map(N,\"thread\",2)\n",
    "print(F)"
   ]
  },
  {
   "cell_type": "code",
   "execution_count": null,
   "metadata": {},
   "outputs": [],
   "source": [
    "x0 = MX.sym(\"x0\")\n",
    "x = x0\n",
    "for i in range(N):\n",
    "    x = f(x)\n",
    "\n",
    "F = Function('F',[x0],[x])\n",
    "print(F)"
   ]
  },
  {
   "cell_type": "code",
   "execution_count": null,
   "metadata": {},
   "outputs": [],
   "source": [
    "F = f.fold(N)\n",
    "print(F)"
   ]
  },
  {
   "cell_type": "markdown",
   "metadata": {},
   "source": [
    "## Optimal control with CasADi\n",
    "$$\n",
    "\\begin{split}\\begin{array}{lc}\n",
    "\\begin{array}{l}\n",
    "\\text{minimize:} \\\\\n",
    "x(\\cdot) \\in \\mathbb{R}^2, \\, u(\\cdot) \\in \\mathbb{R}\n",
    "\\end{array}\n",
    "\\quad \\displaystyle \\int_{t=0}^{T}{(x_0^2 + x_1^2 + u^2) \\, dt}\n",
    "\\\\\n",
    "\\\\\n",
    "\\text{subject to:} \\\\\n",
    "\\\\\n",
    "\\begin{array}{ll}\n",
    "\\left\\{\n",
    "\\begin{array}{l}\n",
    "\\dot{x}_0 = (1-x_1^2) \\, x_0 - x_1 + u \\\\\n",
    "\\dot{x}_1 = x_0 \\\\\n",
    "-1.0 \\le u \\le 1.0, \\quad x_1 \\ge -0.25\n",
    "\\end{array} \\right. & \\text{for} \\, 0 \\le t \\le T \\\\\n",
    "x_0(0)=0, \\quad x_1(0)=1,\n",
    "\\end{array}\n",
    "\\end{array}\\end{split}\n",
    "$$\n",
    "with $T=10$."
   ]
  },
  {
   "cell_type": "markdown",
   "metadata": {},
   "source": [
    "### Direct single-shooting"
   ]
  },
  {
   "cell_type": "code",
   "execution_count": null,
   "metadata": {
    "scrolled": true
   },
   "outputs": [],
   "source": [
    "\n",
    "T = 10. # Time horizon\n",
    "N = 80 # number of control intervals\n",
    "\n",
    "# Declare model variables\n",
    "x1 = MX.sym('x1')\n",
    "x2 = MX.sym('x2')\n",
    "x = vertcat(x1, x2)\n",
    "u = MX.sym('u')\n",
    "\n",
    "# Model equations\n",
    "xdot = vertcat((1-x2**2)*x1 - x2 + u, x1)\n",
    "\n",
    "# Objective term\n",
    "L = x1**2 + x2**2 + u**2\n",
    "\n",
    "# Formulate discrete time dynamics\n",
    "if False:\n",
    "    # CVODES from the SUNDIALS suite\n",
    "    dae = {'x':x, 'p':u, 'ode':xdot, 'quad':L}\n",
    "    opts = {'tf':T/N}\n",
    "    F = integrator('F', 'cvodes', dae, opts)\n",
    "else:\n",
    "    # Fixed step Runge-Kutta 4 integrator\n",
    "    M = 4 # RK4 steps per interval\n",
    "    DT = T/N/M\n",
    "    f = Function('f', [x, u], [xdot, L])\n",
    "    X0 = MX.sym('X0', 2)\n",
    "    U = MX.sym('U')\n",
    "    X = X0\n",
    "    Q = 0\n",
    "    for j in range(M):\n",
    "        k1, k1_q = f(X, U)\n",
    "        k2, k2_q = f(X + DT/2 * k1, U)\n",
    "        k3, k3_q = f(X + DT/2 * k2, U)\n",
    "        k4, k4_q = f(X + DT * k3, U)\n",
    "        X=X+DT/6*(k1 +2*k2 +2*k3 +k4)\n",
    "        Q = Q + DT/6*(k1_q + 2*k2_q + 2*k3_q + k4_q)\n",
    "    F = Function('F', [X0, U], [X, Q],['x0','p'],['xf','qf'])\n",
    "\n",
    "# Evaluate at a test point\n",
    "Fk = F(x0=[0.2,0.3],p=0.4)\n",
    "print(Fk['xf'])\n",
    "print(Fk['qf'])\n",
    "\n",
    "# Start with an empty NLP\n",
    "w=[]\n",
    "w0 = []\n",
    "lbw = []\n",
    "ubw = []\n",
    "J = 0\n",
    "g=[]\n",
    "lbg = []\n",
    "ubg = []\n",
    "\n",
    "# Formulate the NLP\n",
    "Xk = MX([0, 1])\n",
    "for k in range(N):\n",
    "    # New NLP variable for the control\n",
    "    Uk = MX.sym('U_' + str(k))\n",
    "    w += [Uk]\n",
    "    lbw += [-1]\n",
    "    ubw += [1]\n",
    "    w0 += [0]\n",
    "\n",
    "    # Integrate till the end of the interval\n",
    "    Fk = F(x0=Xk, p=Uk)\n",
    "    Xk = Fk['xf']\n",
    "    J=J+Fk['qf']\n",
    "\n",
    "    # Add inequality constraint\n",
    "    g += [Xk[0]]\n",
    "    lbg += [-.25]\n",
    "    ubg += [inf]\n",
    "\n",
    "# Create an NLP solver\n",
    "prob = {'f': J, 'x': vertcat(*w), 'g': vertcat(*g)}\n",
    "solver = nlpsol('solver', 'ipopt', prob)\n",
    "\n",
    "# Solve the NLP\n",
    "sol = solver(x0=w0, lbx=lbw, ubx=ubw, lbg=lbg, ubg=ubg)\n",
    "w_opt = sol['x']\n",
    "\n",
    "# Plot the solution\n",
    "u_opt = w_opt\n",
    "x_opt = [[0, 1]]\n",
    "for k in range(N):\n",
    "    Fk = F(x0=x_opt[-1], p=u_opt[k])\n",
    "    x_opt += [Fk['xf'].full()]\n",
    "x1_opt = [r[0] for r in x_opt]\n",
    "x2_opt = [r[1] for r in x_opt]\n",
    "\n",
    "tgrid = [T/N*k for k in range(N+1)]\n",
    "\n",
    "\n",
    "plt.figure(1)\n",
    "plt.clf()\n",
    "plt.plot(tgrid, x1_opt, '--')\n",
    "plt.plot(tgrid, x2_opt, '-')\n",
    "plt.step(tgrid, vertcat(DM.nan(1), u_opt), '-.')\n",
    "plt.xlabel('t')\n",
    "plt.legend(['x1','x2','u'])\n",
    "plt.grid()\n"
   ]
  },
  {
   "cell_type": "markdown",
   "metadata": {},
   "source": [
    "### Direct multiple-shooting"
   ]
  },
  {
   "cell_type": "code",
   "execution_count": null,
   "metadata": {},
   "outputs": [],
   "source": [
    "\n",
    "T = 10. # Time horizon\n",
    "N = 20 # number of control intervals\n",
    "\n",
    "# Declare model variables\n",
    "x1 = MX.sym('x1')\n",
    "x2 = MX.sym('x2')\n",
    "x = vertcat(x1, x2)\n",
    "u = MX.sym('u')\n",
    "\n",
    "# Model equations\n",
    "xdot = vertcat((1-x2**2)*x1 - x2 + u, x1)\n",
    "\n",
    "# Objective term\n",
    "L = x1**2 + x2**2 + u**2\n",
    "\n",
    "# Formulate discrete time dynamics\n",
    "if False:\n",
    "    # CVODES from the SUNDIALS suite\n",
    "    dae = {'x':x, 'p':u, 'ode':xdot, 'quad':L}\n",
    "    opts = {'tf':T/N}\n",
    "    F = integrator('F', 'cvodes', dae, opts)\n",
    "else:\n",
    "    # Fixed step Runge-Kutta 4 integrator\n",
    "    M = 4 # RK4 steps per interval\n",
    "    DT = T/N/M\n",
    "    f = Function('f', [x, u], [xdot, L])\n",
    "    X0 = MX.sym('X0', 2)\n",
    "    U = MX.sym('U')\n",
    "    X = X0\n",
    "    Q = 0\n",
    "    for j in range(M):\n",
    "        k1, k1_q = f(X, U)\n",
    "        k2, k2_q = f(X + DT/2 * k1, U)\n",
    "        k3, k3_q = f(X + DT/2 * k2, U)\n",
    "        k4, k4_q = f(X + DT * k3, U)\n",
    "        X=X+DT/6*(k1 +2*k2 +2*k3 +k4)\n",
    "        Q = Q + DT/6*(k1_q + 2*k2_q + 2*k3_q + k4_q)\n",
    "    F = Function('F', [X0, U], [X, Q],['x0','p'],['xf','qf'])\n",
    "\n",
    "# Evaluate at a test point\n",
    "Fk = F(x0=[0.2,0.3],p=0.4)\n",
    "print(Fk['xf'])\n",
    "print(Fk['qf'])\n",
    "\n",
    "# Start with an empty NLP\n",
    "w=[]\n",
    "w0 = []\n",
    "lbw = []\n",
    "ubw = []\n",
    "J = 0\n",
    "g=[]\n",
    "lbg = []\n",
    "ubg = []\n",
    "\n",
    "# \"Lift\" initial conditions\n",
    "Xk = MX.sym('X0', 2)\n",
    "w += [Xk]\n",
    "lbw += [0, 1]\n",
    "ubw += [0, 1]\n",
    "w0 += [0, 1]\n",
    "\n",
    "# Formulate the NLP\n",
    "for k in range(N):\n",
    "    # New NLP variable for the control\n",
    "    Uk = MX.sym('U_' + str(k))\n",
    "    w   += [Uk]\n",
    "    lbw += [-1]\n",
    "    ubw += [1]\n",
    "    w0  += [0]\n",
    "\n",
    "    # Integrate till the end of the interval\n",
    "    Fk = F(x0=Xk, p=Uk)\n",
    "    Xk_end = Fk['xf']\n",
    "    J=J+Fk['qf']\n",
    "\n",
    "    # New NLP variable for state at end of interval\n",
    "    Xk = MX.sym('X_' + str(k+1), 2)\n",
    "    w   += [Xk]\n",
    "    lbw += [-0.25, -inf]\n",
    "    ubw += [  inf,  inf]\n",
    "    w0  += [0, 0]\n",
    "\n",
    "    # Add equality constraint\n",
    "    g   += [Xk_end-Xk]\n",
    "    lbg += [0, 0]\n",
    "    ubg += [0, 0]\n",
    "\n",
    "# Create an NLP solver\n",
    "prob = {'f': J, 'x': vertcat(*w), 'g': vertcat(*g)}\n",
    "solver = nlpsol('solver', 'ipopt', prob);\n",
    "\n",
    "# Solve the NLP\n",
    "sol = solver(x0=w0, lbx=lbw, ubx=ubw, lbg=lbg, ubg=ubg)\n",
    "w_opt = sol['x'].full().flatten()\n",
    "\n",
    "# Plot the solution\n",
    "x1_opt = w_opt[0::3]\n",
    "x2_opt = w_opt[1::3]\n",
    "u_opt = w_opt[2::3]\n",
    "\n",
    "tgrid = [T/N*k for k in range(N+1)]\n",
    "\n",
    "plt.figure(1)\n",
    "plt.clf()\n",
    "plt.plot(tgrid, x1_opt, '--')\n",
    "plt.plot(tgrid, x2_opt, '-')\n",
    "plt.step(tgrid, vertcat(DM.nan(1), u_opt), '-.')\n",
    "plt.xlabel('t')\n",
    "plt.legend(['x1','x2','u'])\n",
    "plt.grid()\n"
   ]
  },
  {
   "cell_type": "markdown",
   "metadata": {},
   "source": [
    "## Pendulum exercise\n",
    "$$\n",
    "\\begin{split}\\begin{array}{lc}\n",
    "\\begin{array}{l}\n",
    "\\text{minimize:} \\\\\n",
    "x(\\cdot) \\in \\mathbb{R}^2, \\, u(\\cdot) \\in \\mathbb{R}\n",
    "\\end{array}\n",
    "\\quad \\displaystyle \\int_{t=0}^{T}{cos(x_1) \\, dt}\n",
    "\\\\\n",
    "\\\\\n",
    "\\text{subject to:} \\\\\n",
    "\\\\\n",
    "\\begin{array}{ll}\n",
    "\\left\\{\n",
    "\\begin{array}{l}\n",
    "\\dot{x}_0 = u - sin(x_1) \\\\\n",
    "\\dot{x}_1 = x_0 \\\\\n",
    "-u_{max} \\le u \\le u_{max} , \\quad\n",
    "\\end{array} \\right. & \\text{for} \\, 0 \\le t \\le T \\\\\n",
    "x_0(0)=0, \\quad x_1(0)=0,\n",
    "\\end{array}\n",
    "\\end{array}\\end{split}\n",
    "$$\n",
    "with $T=10$.\n",
    "\n",
    "siendo $$x_0 = \\theta'$$ $$x_1 = \\theta$$"
   ]
  },
  {
   "cell_type": "code",
   "execution_count": null,
   "metadata": {
    "scrolled": true
   },
   "outputs": [],
   "source": [
    "\n",
    "T = 5. # Time horizon\n",
    "N = 30 # number of control intervals\n",
    "u_m = 0.7\n",
    "\n",
    "# Declare model variables\n",
    "x1 = MX.sym('x1')\n",
    "x0 = MX.sym('x0')\n",
    "x = vertcat(x0, x1)\n",
    "u = MX.sym('u')\n",
    "\n",
    "# Model equations\n",
    "xdot = vertcat(u-sin(x1), x0)\n",
    "\n",
    "# Objective term\n",
    "L = cos(x1)\n",
    "\n",
    "# Formulate discrete time dynamics\n",
    "if False:\n",
    "    pass\n",
    "    # CVODES from the SUNDIALS suite\n",
    "#    dae = {'x':x, 'p':u, 'ode':xdot, 'quad':L}\n",
    "#    opts = {'tf':T/N}\n",
    "#    F = integrator('F', 'cvodes', dae, opts)\n",
    "else:\n",
    "    # Fixed step Runge-Kutta 4 integrator\n",
    "    M = 4 # RK4 steps per interval\n",
    "    DT = T/N/M\n",
    "    f = Function('f', [x, u], [xdot, L])\n",
    "    X_0 = MX.sym('X_0', 2)\n",
    "    U = MX.sym('U')\n",
    "    X = X_0\n",
    "    Q = 0\n",
    "    for j in range(M):\n",
    "        k1, k1_q = f(X, U)\n",
    "        k2, k2_q = f(X + DT/2 * k1, U)\n",
    "        k3, k3_q = f(X + DT/2 * k2, U)\n",
    "        k4, k4_q = f(X + DT * k3, U)\n",
    "        X=X+DT/6*(k1 +2*k2 +2*k3 +k4)\n",
    "        Q = Q + DT/6*(k1_q + 2*k2_q + 2*k3_q + k4_q)\n",
    "    F = Function('F', [X_0, U], [X, Q],['x_0','p'],['xf','qf'])\n",
    "\n",
    "# Evaluate at a test point\n",
    "Fk = F(x_0=[0.,0.],p=0.)\n",
    "print(Fk['xf'])\n",
    "print(Fk['qf'])\n",
    "\n",
    "# Start with an empty NLP\n",
    "w=[]\n",
    "w0 = []\n",
    "lbw = []\n",
    "ubw = []\n",
    "J = 0\n",
    "g=[]\n",
    "lbg = []\n",
    "ubg = []\n",
    "\n",
    "# Formulate the NLP\n",
    "Xk = MX([0, 0])\n",
    "for k in range(N):\n",
    "    # New NLP variable for the control\n",
    "    Uk = MX.sym('U_' + str(k))\n",
    "    w += [Uk]\n",
    "    lbw += [-u_m]\n",
    "    ubw += [u_m]\n",
    "    w0 += [0]\n",
    "\n",
    "    # Integrate till the end of the interval\n",
    "    Fk = F(x_0=Xk, p=Uk)\n",
    "    Xk = Fk['xf']\n",
    "    J=J+Fk['qf']\n",
    "\n",
    "    # Add inequality constraint\n",
    "    g += [Xk[0]]\n",
    "#    lbg += [-.25]\n",
    "    ubg += [inf]\n",
    "\n",
    "# Create an NLP solver\n",
    "prob = {'f': J, 'x': vertcat(*w), 'g': vertcat(*g)}\n",
    "solver = nlpsol('solver', 'ipopt', prob)\n",
    "\n",
    "# Solve the NLP\n",
    "sol = solver(x0=w0, lbx=lbw, ubx=ubw, lbg=lbg, ubg=ubg)\n",
    "w_opt = sol['x']\n",
    "\n",
    "# Plot the solution\n",
    "u_opt = w_opt\n",
    "x_opt = [[0, 0]]\n",
    "for k in range(N):\n",
    "    Fk = F(x_0=x_opt[-1], p=u_opt[k])\n",
    "    x_opt += [Fk['xf'].full()]\n",
    "x1_opt = [r[0] for r in x_opt]\n",
    "x2_opt = [r[1] for r in x_opt]\n",
    "\n",
    "tgrid = [T/N*k for k in range(N+1)]\n",
    "\n",
    "\n",
    "plt.figure(1)\n",
    "plt.clf()\n",
    "plt.plot(tgrid, x1_opt, '--')\n",
    "plt.plot(tgrid, x2_opt, '-')\n",
    "plt.step(tgrid, vertcat(DM.nan(1), u_opt), '-.')\n",
    "plt.xlabel('t')\n",
    "plt.legend(['x0','x1','u'])\n",
    "plt.grid()\n"
   ]
  },
  {
   "cell_type": "code",
   "execution_count": null,
   "metadata": {},
   "outputs": [],
   "source": []
  },
  {
   "cell_type": "code",
   "execution_count": null,
   "metadata": {},
   "outputs": [],
   "source": []
  },
  {
   "cell_type": "code",
   "execution_count": null,
   "metadata": {},
   "outputs": [],
   "source": []
  },
  {
   "cell_type": "code",
   "execution_count": null,
   "metadata": {},
   "outputs": [],
   "source": []
  },
  {
   "cell_type": "code",
   "execution_count": null,
   "metadata": {},
   "outputs": [],
   "source": []
  },
  {
   "cell_type": "markdown",
   "metadata": {},
   "source": [
    "## Rocket control Example"
   ]
  },
  {
   "cell_type": "code",
   "execution_count": null,
   "metadata": {},
   "outputs": [],
   "source": [
    "# Control\n",
    "u = MX.sym(\"u\")\n",
    "\n",
    "# State\n",
    "x = MX.sym(\"x\",3)\n",
    "s = x[0] # position\n",
    "v = x[1] # speed\n",
    "m = x[2] # mass\n",
    "\n",
    "# ODE right hand side\n",
    "sdot = v\n",
    "vdot = (u - 0.05 * v*v)/m\n",
    "mdot = -0.1*u*u\n",
    "xdot = vertcat(sdot,vdot,mdot)\n",
    "\n",
    "# ODE right hand side function\n",
    "f = Function('f', [x,u],[xdot])\n",
    "\n",
    "# Integrate with Explicit Euler over 0.2 seconds\n",
    "dt = 0.01  # Time step\n",
    "xj = x\n",
    "for j in range(20):\n",
    "    fj = f(xj,u)\n",
    "    xj += dt*fj\n",
    "\n",
    "# Discrete time dynamics function\n",
    "F = Function('F', [x,u],[xj])\n",
    "\n",
    "# Number of control segments\n",
    "nu = 50 \n",
    "\n",
    "# Control for all segments\n",
    "U = MX.sym(\"U\",nu) \n",
    " \n",
    "# Initial conditions\n",
    "X0 = MX([0,0,1])\n",
    "\n",
    "# Integrate over all intervals\n",
    "X=X0\n",
    "for k in range(nu):\n",
    "    X = F(X,U[k])\n",
    "\n",
    "# Objective function and constraints\n",
    "J = mtimes(U.T,U) # u'*u in Matlab\n",
    "G = X[0:2]     # x(1:2) in Matlab\n",
    "\n",
    "# NLP\n",
    "nlp = {'x':U, 'f':J, 'g':G}\n",
    " \n",
    "# Allocate an NLP solver\n",
    "opts = {\"ipopt.tol\":1e-10, \"expand\":True}\n",
    "solver = nlpsol(\"solver\", \"ipopt\", nlp, opts)\n",
    "arg = {}\n",
    "\n",
    "# Bounds on u and initial condition\n",
    "arg[\"lbx\"] = -0.5\n",
    "arg[\"ubx\"] =  0.5\n",
    "arg[\"x0\"] =   0.4\n",
    "\n",
    "# Bounds on g\n",
    "arg[\"lbg\"] = [10,0]\n",
    "arg[\"ubg\"] = [10,0]\n",
    "\n",
    "# Solve the problem\n",
    "res = solver(**arg)\n",
    "\n",
    "# Get the solution\n",
    "plt.plot(res[\"x\"])\n",
    "plt.plot(res[\"lam_x\"])\n",
    "plt.grid()"
   ]
  },
  {
   "cell_type": "code",
   "execution_count": null,
   "metadata": {},
   "outputs": [],
   "source": [
    "res"
   ]
  },
  {
   "cell_type": "code",
   "execution_count": null,
   "metadata": {},
   "outputs": [],
   "source": []
  },
  {
   "cell_type": "code",
   "execution_count": null,
   "metadata": {},
   "outputs": [],
   "source": []
  },
  {
   "cell_type": "code",
   "execution_count": null,
   "metadata": {},
   "outputs": [],
   "source": []
  },
  {
   "cell_type": "code",
   "execution_count": null,
   "metadata": {},
   "outputs": [],
   "source": []
  },
  {
   "cell_type": "code",
   "execution_count": null,
   "metadata": {},
   "outputs": [],
   "source": []
  },
  {
   "cell_type": "code",
   "execution_count": null,
   "metadata": {},
   "outputs": [],
   "source": []
  }
 ],
 "metadata": {
  "kernelspec": {
   "display_name": "Python 3 (ipykernel)",
   "language": "python",
   "name": "python3"
  },
  "language_info": {
   "codemirror_mode": {
    "name": "ipython",
    "version": 3
   },
   "file_extension": ".py",
   "mimetype": "text/x-python",
   "name": "python",
   "nbconvert_exporter": "python",
   "pygments_lexer": "ipython3",
   "version": "3.9.5"
  }
 },
 "nbformat": 4,
 "nbformat_minor": 2
}
